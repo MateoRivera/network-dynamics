{
  "cells": [
    {
      "cell_type": "markdown",
      "metadata": {
        "id": "view-in-github",
        "colab_type": "text"
      },
      "source": [
        "<a href=\"https://colab.research.google.com/github/MateoRivera/network-dynamics/blob/main/H1/Punto1.ipynb\" target=\"_parent\"><img src=\"https://colab.research.google.com/assets/colab-badge.svg\" alt=\"Open In Colab\"/></a>"
      ]
    },
    {
      "cell_type": "markdown",
      "source": [
        "#Excercise 1"
      ],
      "metadata": {
        "id": "CqtYqZAjFPPk"
      },
      "id": "CqtYqZAjFPPk"
    },
    {
      "cell_type": "markdown",
      "source": [
        "## Point a\n",
        "\n",
        "Compute the capacity of all the cuts and find the minimum capacity to be removed for no feasible flow from o to d to exist."
      ],
      "metadata": {
        "id": "WtZqwtVPP09e"
      },
      "id": "WtZqwtVPP09e"
    },
    {
      "cell_type": "code",
      "source": [
        "#Import liberries\n",
        "import numpy as np\n",
        "import networkx as nx\n",
        "import matplotlib.pyplot as plt\n",
        "from collections import Counter"
      ],
      "metadata": {
        "id": "hDRK3jk1SN-E"
      },
      "id": "hDRK3jk1SN-E",
      "execution_count": 142,
      "outputs": []
    },
    {
      "cell_type": "code",
      "execution_count": 143,
      "id": "initial_id",
      "metadata": {
        "collapsed": true,
        "id": "initial_id"
      },
      "outputs": [],
      "source": [
        "#Create the graph\n",
        "def create_graph():\n",
        "  global G\n",
        "  G = nx.DiGraph()\n",
        "  G.add_edge('o', 'a', capacity=3)  # e1\n",
        "  G.add_edge('o', 'b', capacity=3)  # e3\n",
        "  G.add_edge('b', 'd', capacity=2)  # e4\n",
        "  G.add_edge('a', 'd', capacity=2)  # e2\n",
        "  G.add_edge('a', 'b', capacity=1)  # e7\n",
        "  G.add_edge('b', 'c', capacity=3)  # e5\n",
        "  G.add_edge('c', 'd', capacity=1)  # e6\n",
        "\n",
        "  return G\n"
      ]
    },
    {
      "cell_type": "code",
      "source": [
        "G= create_graph()"
      ],
      "metadata": {
        "id": "pGK05S4Zpzdu"
      },
      "id": "pGK05S4Zpzdu",
      "execution_count": 144,
      "outputs": []
    },
    {
      "cell_type": "code",
      "source": [
        "#Define the static positions of the nodes\n",
        "pos = {\"o\": (40, 20), \"a\": (60, 35), \"b\": (60, 20), \"c\": (60, 5), \"d\": (80, 20)}"
      ],
      "metadata": {
        "id": "kefywsifD5oO"
      },
      "id": "kefywsifD5oO",
      "execution_count": 145,
      "outputs": []
    },
    {
      "cell_type": "code",
      "source": [
        "nx.draw_networkx_edge_labels(G,pos,edge_labels={(\"o\",\"a\"):'3',(\"o\",\"b\"):'3',(\"a\",\"d\"):'2',(\"b\",\"d\"):'2',(\"b\",\"c\"):'3',(\"c\",\"d\"):'1',(\"a\",\"b\"):'1'},font_color='red')\n",
        "nx.draw(G, pos, with_labels=True)"
      ],
      "metadata": {
        "colab": {
          "base_uri": "https://localhost:8080/",
          "height": 406
        },
        "id": "mHHSPyy-U1ma",
        "outputId": "2bb4cd79-0f94-4e0a-e536-7f3af330e990"
      },
      "id": "mHHSPyy-U1ma",
      "execution_count": 146,
      "outputs": [
        {
          "output_type": "display_data",
          "data": {
            "text/plain": [
              "<Figure size 640x480 with 1 Axes>"
            ],
            "image/png": "[encoded data removed]"
          },
          "metadata": {}
        }
      ]
    },
    {
      "cell_type": "markdown",
      "source": [
        "According to the min-cut theorem, when we calculate the min-cut capacity, we obtain the minimum capacity among all cuts between the source and destination nodes, 𝑜-𝑑.\n",
        "\n",
        "In the maximum flow problem, a flow is feasible if it satisfies the following constraints:\n",
        "\n",
        "*   It has no negative throughput.\n",
        "*   It respects the capacity limits.\n",
        "*   It maintains mass conservation at each node..\n",
        "\n",
        "Moreover, by analyzing the min-cuts, we can observe that the minimum capacity belongs to the final cut.\n",
        "\n",
        "The minimum total capacity that needs to be removed from the network to make\n",
        "𝑑 unreachable from 𝑜 coincides with the min-cut capacity. In this case, it corresponds to the cut between {o,a,b,c} and {d}, with a total capacity of 5.\n",
        "\n"
      ],
      "metadata": {
        "id": "1_5j6fFtGA8z"
      },
      "id": "1_5j6fFtGA8z"
    },
    {
      "cell_type": "markdown",
      "source": [
        "**Cuts**\n",
        "- $U=\\{o\\},U^C=\\{a,b,c,d\\}$ -> $C_U = 6$\n",
        "- $U=\\{o,a\\},U^C=\\{b,c,d\\}$ -> $C_U = 6$\n",
        "- $U=\\{o,a,b\\},U^C=\\{c,d\\}$ -> $C_U = 7$\n",
        "- $U=\\{o,a,b,c\\},U^C=\\{d\\}$ -> $C_U = 5$"
      ],
      "metadata": {
        "id": "EX-0abIepo2l"
      },
      "id": "EX-0abIepo2l"
    },
    {
      "cell_type": "code",
      "source": [
        "#Further-theorem\n",
        "nx.algorithms.flow.minimum_cut(G,\"o\",\"d\")"
      ],
      "metadata": {
        "colab": {
          "base_uri": "https://localhost:8080/"
        },
        "id": "ozy9_L4dph4u",
        "outputId": "ab963ad0-d685-43cf-9032-f8e33aa20bc2"
      },
      "id": "ozy9_L4dph4u",
      "execution_count": 147,
      "outputs": [
        {
          "output_type": "execute_result",
          "data": {
            "text/plain": [
              "(5, ({'a', 'b', 'c', 'o'}, {'d'}))"
            ]
          },
          "metadata": {},
          "execution_count": 147
        }
      ]
    },
    {
      "cell_type": "code",
      "source": [
        "G.edges()"
      ],
      "metadata": {
        "id": "cOVU5H6_MYR1",
        "outputId": "8e465a0e-99be-44cb-d61c-eb83c06a1dbe",
        "colab": {
          "base_uri": "https://localhost:8080/"
        }
      },
      "id": "cOVU5H6_MYR1",
      "execution_count": 148,
      "outputs": [
        {
          "output_type": "execute_result",
          "data": {
            "text/plain": [
              "OutEdgeView([('o', 'a'), ('o', 'b'), ('a', 'd'), ('a', 'b'), ('b', 'd'), ('b', 'c'), ('c', 'd')])"
            ]
          },
          "metadata": {},
          "execution_count": 148
        }
      ]
    },
    {
      "cell_type": "code",
      "source": [
        "# Función para calcular la capacidad de un corte dado\n",
        "\n",
        "def calculate_cut_capacity(U, U_complement, G):\n",
        "    capacity = 0\n",
        "    for u in U: #Iterate over the reachable nodes\n",
        "        for v in G[u]: #Iterate over the edges of the reachable nodes\n",
        "            if v in U_complement:#If the edge is shared with the non_reachable section (which in the first case would be a connection with d)\n",
        "                capacity += G[u][v]['capacity']\n",
        "    return capacity\n",
        "\n",
        "# Lista de cortes específicos que queremos calcular\n",
        "cuts = [\n",
        "    ({'o'}, {'a', 'b', 'c', 'd'}),\n",
        "    ({'o', 'a'}, {'b', 'c', 'd'}),\n",
        "    ({'o', 'a', 'b'}, {'c', 'd'}),\n",
        "    ({'o', 'a', 'b', 'c'}, {'d'})\n",
        "]\n",
        "\n",
        "# Cálculo de los cortes y su capacidad\n",
        "def get_all_capacities(G):\n",
        "  capacities=[]\n",
        "  for U, U_complement in cuts:\n",
        "      capacity = calculate_cut_capacity(U, U_complement, G)\n",
        "      capacities.append(capacity)\n",
        "      print(f\"U = {U}, U^C = {U_complement} -> C_U = {capacity}\")\n",
        "\n",
        "  return np.array(capacities)\n",
        "\n",
        "\n"
      ],
      "metadata": {
        "id": "Wkxd8uxXKVGy"
      },
      "id": "Wkxd8uxXKVGy",
      "execution_count": 149,
      "outputs": []
    },
    {
      "cell_type": "code",
      "source": [
        "get_all_capacities(G)"
      ],
      "metadata": {
        "id": "He4Ew4wtQ1qG",
        "outputId": "38f0b0ee-5560-4bae-e0bd-18c4bca27ba8",
        "colab": {
          "base_uri": "https://localhost:8080/"
        }
      },
      "id": "He4Ew4wtQ1qG",
      "execution_count": 150,
      "outputs": [
        {
          "output_type": "stream",
          "name": "stdout",
          "text": [
            "U = {'o'}, U^C = {'c', 'b', 'd', 'a'} -> C_U = 6\n",
            "U = {'o', 'a'}, U^C = {'c', 'b', 'd'} -> C_U = 6\n",
            "U = {'b', 'o', 'a'}, U^C = {'c', 'd'} -> C_U = 7\n",
            "U = {'c', 'b', 'o', 'a'}, U^C = {'d'} -> C_U = 5\n"
          ]
        },
        {
          "output_type": "execute_result",
          "data": {
            "text/plain": [
              "array([6, 6, 7, 5])"
            ]
          },
          "metadata": {},
          "execution_count": 150
        }
      ]
    },
    {
      "cell_type": "markdown",
      "source": [
        "## Point b\n",
        "You are given $x = 0$ extra units of capacity (x e Z). How should you distribute them in order to maximize the throughput that can be sent from o to d? Plot the maximum throughput from o to d as a function of $x \\geq 0$.\n",
        "\n"
      ],
      "metadata": {
        "id": "ho-MWIJKP5fq"
      },
      "id": "ho-MWIJKP5fq"
    },
    {
      "cell_type": "markdown",
      "source": [
        "**Max flow min cut Theorem**: the maximal flow that can send from $o$ to $d$ equals the minimal cut capacity among the o-d cuts of the network."
      ],
      "metadata": {
        "id": "04ncc7ez3rF2"
      },
      "id": "04ncc7ez3rF2"
    },
    {
      "cell_type": "code",
      "source": [
        "# Current maxim flow\n",
        "min_cut= nx.algorithms.flow.maximum_flow(G,\"o\",\"d\")\n",
        "# we gey the maximal throughput, plus a dictionary containing the value of the flow that goes through each edge.\n",
        "min_cut"
      ],
      "metadata": {
        "id": "iGHQW548udQB",
        "outputId": "071c310b-048c-427a-db79-6e35e8ac372c",
        "colab": {
          "base_uri": "https://localhost:8080/"
        }
      },
      "id": "iGHQW548udQB",
      "execution_count": 151,
      "outputs": [
        {
          "output_type": "execute_result",
          "data": {
            "text/plain": [
              "(5,\n",
              " {'o': {'a': 3, 'b': 2},\n",
              "  'a': {'d': 2, 'b': 1},\n",
              "  'b': {'d': 2, 'c': 1},\n",
              "  'd': {},\n",
              "  'c': {'d': 1}})"
            ]
          },
          "metadata": {},
          "execution_count": 151
        }
      ]
    },
    {
      "cell_type": "markdown",
      "source": [
        "The extra units of capacity should be allocated along the edges of the min-cut to balance capacities between cuts without creating or increasing bottlenecks. This allocation is done incrementally, adding one unit at a time along the min-cut edges. After each allocation, the min-cut is recalculated to check if capacities have changed or if a new min-cut has been created."
      ],
      "metadata": {
        "id": "xcykrkqQ7RsP"
      },
      "id": "xcykrkqQ7RsP"
    },
    {
      "cell_type": "code",
      "source": [
        "def compute_max_flow_min_cut(G):\n",
        "\n",
        "    # Compute minimum cut (capacity of the cut)\n",
        "    _, partition = nx.minimum_cut(G, 'o', 'd')\n",
        "\n",
        "    # Get the edges in the minimum cut\n",
        "    reachable, non_reachable = partition #In the first case the reachable variable corresponds to o,a,b,c and non_reachable to d.\n",
        "\n",
        "\n",
        "    cutset={} #Start dictionary to save the edges between the cuts\n",
        "    esges=[]\n",
        "\n",
        "    for u in reachable: #Iterate over the reachable nodes\n",
        "        for v in G[u]: #Iterate over the edges of the reachable nodes\n",
        "            if v in non_reachable:#If the edge is shared with the non_reachable section (which in the first case would be a connection with d)\n",
        "              #cutset[G[u][v]['capacity']]=(u, v) #Save the edges that connect the cuts\n",
        "              esges.append((u,v))\n",
        "\n",
        "    return esges, reachable\n",
        "\n",
        "   # return cutset"
      ],
      "metadata": {
        "id": "L3XBIaYqT9M0"
      },
      "id": "L3XBIaYqT9M0",
      "execution_count": 152,
      "outputs": []
    },
    {
      "cell_type": "code",
      "source": [
        "G=create_graph()\n",
        "borders,reachable = compute_max_flow_min_cut(G) #We get the borders that connect U and Uc"
      ],
      "metadata": {
        "id": "lVLM2qN-IaH_"
      },
      "id": "lVLM2qN-IaH_",
      "execution_count": 153,
      "outputs": []
    },
    {
      "cell_type": "code",
      "source": [
        "borders"
      ],
      "metadata": {
        "id": "BU4fkQEOadSC",
        "outputId": "359ef3d3-0e85-4abd-8f79-681eab27feb1",
        "colab": {
          "base_uri": "https://localhost:8080/"
        }
      },
      "id": "BU4fkQEOadSC",
      "execution_count": 154,
      "outputs": [
        {
          "output_type": "execute_result",
          "data": {
            "text/plain": [
              "[('c', 'd'), ('b', 'd'), ('a', 'd')]"
            ]
          },
          "metadata": {},
          "execution_count": 154
        }
      ]
    },
    {
      "cell_type": "code",
      "source": [
        "reachable"
      ],
      "metadata": {
        "id": "BwAjrlLhI8O4",
        "outputId": "fd813d8f-906d-4c45-cc36-dee83e94fa87",
        "colab": {
          "base_uri": "https://localhost:8080/"
        }
      },
      "id": "BwAjrlLhI8O4",
      "execution_count": 155,
      "outputs": [
        {
          "output_type": "execute_result",
          "data": {
            "text/plain": [
              "{'a', 'b', 'c', 'o'}"
            ]
          },
          "metadata": {},
          "execution_count": 155
        }
      ]
    },
    {
      "cell_type": "markdown",
      "source": [
        "In order to assign the extra capacities we need to know also what are the shared edges of the cuts because in this way if we increase one unit to one of this common edges we will be increassing the capacity of 2 min-cuts"
      ],
      "metadata": {
        "id": "Qx8eQRMOdwnl"
      },
      "id": "Qx8eQRMOdwnl"
    },
    {
      "cell_type": "code",
      "source": [
        "common_borders={}\n",
        "common_borders[0]= [(\"o\",\"b\")] #The first cut share the edge e3 with the cut #2\n",
        "common_borders[1]= [(\"a\",\"d\"), (\"o\",\"b\")] #The second cut shares the edge e2 with the cut #3 and #4\n",
        "common_borders[2]= [(\"a\",\"d\"), (\"b\",\"d\")] #The third cut shares the edge e2 with the cuts #3 and #4 and e4 with the cut#4\n",
        "common_borders[3]=[(\"a\",\"d\"), (\"b\",\"d\")] #The forth cut shares the edges e2 and e4 with the cut #3"
      ],
      "metadata": {
        "id": "SXBtNO0ma2RH"
      },
      "id": "SXBtNO0ma2RH",
      "execution_count": 156,
      "outputs": []
    },
    {
      "cell_type": "code",
      "source": [
        "set('ab').intersection({'a'})"
      ],
      "metadata": {
        "id": "ODOO3UW6MN1p",
        "outputId": "76518385-8c2e-4f9b-c353-2d8caf524e2a",
        "colab": {
          "base_uri": "https://localhost:8080/"
        }
      },
      "id": "ODOO3UW6MN1p",
      "execution_count": 157,
      "outputs": [
        {
          "output_type": "execute_result",
          "data": {
            "text/plain": [
              "{'a'}"
            ]
          },
          "metadata": {},
          "execution_count": 157
        }
      ]
    },
    {
      "cell_type": "code",
      "source": [
        "set(common_borders[1])"
      ],
      "metadata": {
        "id": "sICExVudMeUc",
        "outputId": "f96c1d51-2bee-45a8-f898-69d559b335d5",
        "colab": {
          "base_uri": "https://localhost:8080/"
        }
      },
      "id": "sICExVudMeUc",
      "execution_count": 158,
      "outputs": [
        {
          "output_type": "execute_result",
          "data": {
            "text/plain": [
              "{('a', 'd'), ('o', 'b')}"
            ]
          },
          "metadata": {},
          "execution_count": 158
        }
      ]
    },
    {
      "cell_type": "code",
      "source": [
        "set(common_borders[0])"
      ],
      "metadata": {
        "id": "8ZNOVvIrMvG7",
        "outputId": "435b99e4-7d52-4119-d042-3ff5874e7f08",
        "colab": {
          "base_uri": "https://localhost:8080/"
        }
      },
      "id": "8ZNOVvIrMvG7",
      "execution_count": 159,
      "outputs": [
        {
          "output_type": "execute_result",
          "data": {
            "text/plain": [
              "{('o', 'b')}"
            ]
          },
          "metadata": {},
          "execution_count": 159
        }
      ]
    },
    {
      "cell_type": "code",
      "source": [
        "set(common_borders[1]).intersection(set(common_borders[0]))"
      ],
      "metadata": {
        "id": "nZSu4UyqL9P2",
        "outputId": "ddeb8cff-7e96-4692-8a57-d700bd04998a",
        "colab": {
          "base_uri": "https://localhost:8080/"
        }
      },
      "id": "nZSu4UyqL9P2",
      "execution_count": 160,
      "outputs": [
        {
          "output_type": "execute_result",
          "data": {
            "text/plain": [
              "{('o', 'b')}"
            ]
          },
          "metadata": {},
          "execution_count": 160
        }
      ]
    },
    {
      "cell_type": "code",
      "source": [
        "set(common_borders[1]).intersection(set(common_borders[2])).intersection(set(common_borders[3]))"
      ],
      "metadata": {
        "id": "DXz4nU0uRL2U",
        "outputId": "d453dcfa-6771-4276-a400-74fd25c07b5c",
        "colab": {
          "base_uri": "https://localhost:8080/"
        }
      },
      "id": "DXz4nU0uRL2U",
      "execution_count": 161,
      "outputs": [
        {
          "output_type": "execute_result",
          "data": {
            "text/plain": [
              "{('a', 'd')}"
            ]
          },
          "metadata": {},
          "execution_count": 161
        }
      ]
    },
    {
      "cell_type": "code",
      "source": [
        "set(common_borders[0])\n"
      ],
      "metadata": {
        "id": "JJlrnZLERb9Q",
        "outputId": "015d38c6-b8a6-4895-ed05-d4bbc205a98b",
        "colab": {
          "base_uri": "https://localhost:8080/"
        }
      },
      "id": "JJlrnZLERb9Q",
      "execution_count": 162,
      "outputs": [
        {
          "output_type": "execute_result",
          "data": {
            "text/plain": [
              "{('o', 'b')}"
            ]
          },
          "metadata": {},
          "execution_count": 162
        }
      ]
    },
    {
      "cell_type": "code",
      "source": [
        "common_borders"
      ],
      "metadata": {
        "id": "QOIl42zuci1w",
        "outputId": "943145d4-0027-450c-d36f-2518abca5506",
        "colab": {
          "base_uri": "https://localhost:8080/"
        }
      },
      "id": "QOIl42zuci1w",
      "execution_count": 163,
      "outputs": [
        {
          "output_type": "execute_result",
          "data": {
            "text/plain": [
              "{0: [('o', 'b')],\n",
              " 1: [('a', 'd'), ('o', 'b')],\n",
              " 2: [('a', 'd'), ('b', 'd')],\n",
              " 3: [('a', 'd'), ('b', 'd')]}"
            ]
          },
          "metadata": {},
          "execution_count": 163
        }
      ]
    },
    {
      "cell_type": "code",
      "source": [
        "#We need to know which number of cut is the mincut\n",
        "def get_numcut():\n",
        "\n",
        "  for num_cut in range(len(cuts)):\n",
        "    if sorted(cuts[num_cut][0])==sorted(reachable):\n",
        "      number_cut=num_cut\n",
        "\n",
        "  return number_cut"
      ],
      "metadata": {
        "id": "aJmOKq2TitQZ"
      },
      "id": "aJmOKq2TitQZ",
      "execution_count": 164,
      "outputs": []
    },
    {
      "cell_type": "code",
      "source": [
        "num= get_numcut()"
      ],
      "metadata": {
        "id": "Ht3a0_qJLoOs"
      },
      "id": "Ht3a0_qJLoOs",
      "execution_count": 165,
      "outputs": []
    },
    {
      "cell_type": "code",
      "source": [
        "capacities= get_all_capacities(G)"
      ],
      "metadata": {
        "id": "kMl4gbJyVMNv",
        "outputId": "c408e898-c9e6-439b-a512-0df22fee33c6",
        "colab": {
          "base_uri": "https://localhost:8080/"
        }
      },
      "id": "kMl4gbJyVMNv",
      "execution_count": 166,
      "outputs": [
        {
          "output_type": "stream",
          "name": "stdout",
          "text": [
            "U = {'o'}, U^C = {'c', 'b', 'd', 'a'} -> C_U = 6\n",
            "U = {'o', 'a'}, U^C = {'c', 'b', 'd'} -> C_U = 6\n",
            "U = {'b', 'o', 'a'}, U^C = {'c', 'd'} -> C_U = 7\n",
            "U = {'c', 'b', 'o', 'a'}, U^C = {'d'} -> C_U = 5\n"
          ]
        }
      ]
    },
    {
      "cell_type": "code",
      "source": [
        "capacities\n",
        "mask= capacities==6\n",
        "positions=np.where(mask)\n",
        "positions"
      ],
      "metadata": {
        "id": "Wv98XLCDLv0e",
        "outputId": "4bca0e0c-a093-4661-e249-97bbfcc93bc5",
        "colab": {
          "base_uri": "https://localhost:8080/"
        }
      },
      "id": "Wv98XLCDLv0e",
      "execution_count": 167,
      "outputs": [
        {
          "output_type": "execute_result",
          "data": {
            "text/plain": [
              "(array([0, 1]),)"
            ]
          },
          "metadata": {},
          "execution_count": 167
        }
      ]
    },
    {
      "cell_type": "code",
      "source": [
        "for i in range(len(positions)):\n",
        "              if i+1>len(positions):\n",
        "                break\n",
        "              selected_border= set(common_borders[i]).intersection(set(common_borders[i+1]))"
      ],
      "metadata": {
        "id": "GSyw_IxEjn0Y"
      },
      "id": "GSyw_IxEjn0Y",
      "execution_count": 168,
      "outputs": []
    },
    {
      "cell_type": "code",
      "source": [
        "a=selected_border.pop()"
      ],
      "metadata": {
        "id": "TGSyPux0Tss8"
      },
      "id": "TGSyPux0Tss8",
      "execution_count": 169,
      "outputs": []
    },
    {
      "cell_type": "code",
      "source": [
        "a[0]"
      ],
      "metadata": {
        "id": "ogLsVyP4c8m6",
        "outputId": "6c157046-6377-4f31-8720-817c2fa23993",
        "colab": {
          "base_uri": "https://localhost:8080/",
          "height": 36
        }
      },
      "id": "ogLsVyP4c8m6",
      "execution_count": 170,
      "outputs": [
        {
          "output_type": "execute_result",
          "data": {
            "text/plain": [
              "'o'"
            ],
            "application/vnd.google.colaboratory.intrinsic+json": {
              "type": "string"
            }
          },
          "metadata": {},
          "execution_count": 170
        }
      ]
    },
    {
      "cell_type": "code",
      "source": [
        "common_borders[0]"
      ],
      "metadata": {
        "id": "0Xz4v2WNjhbO",
        "outputId": "7e146dd7-742c-44ca-d713-29e5ba3b1fb5",
        "colab": {
          "base_uri": "https://localhost:8080/"
        }
      },
      "id": "0Xz4v2WNjhbO",
      "execution_count": 171,
      "outputs": [
        {
          "output_type": "execute_result",
          "data": {
            "text/plain": [
              "[('o', 'b')]"
            ]
          },
          "metadata": {},
          "execution_count": 171
        }
      ]
    },
    {
      "cell_type": "code",
      "source": [
        "set(common_borders[positions[0][0]]).intersection(set(common_borders[positions[0][1]]))  # Iniciar con el primer conjunto de bordes"
      ],
      "metadata": {
        "id": "vl48D4eVahvL",
        "outputId": "ac28f6ca-e187-4f16-8dad-3c93d9463bda",
        "colab": {
          "base_uri": "https://localhost:8080/"
        }
      },
      "id": "vl48D4eVahvL",
      "execution_count": 172,
      "outputs": [
        {
          "output_type": "execute_result",
          "data": {
            "text/plain": [
              "{('o', 'b')}"
            ]
          },
          "metadata": {},
          "execution_count": 172
        }
      ]
    },
    {
      "cell_type": "markdown",
      "source": [
        "We need to satisfy that when there are more than 1 minucut the edge which must be located the extracapacity is the one that is shared by them"
      ],
      "metadata": {
        "id": "bAxbFXQsSPqQ"
      },
      "id": "bAxbFXQsSPqQ"
    },
    {
      "cell_type": "code",
      "source": [
        "def assign_capacities(x):\n",
        "\n",
        "  max_flows = {}\n",
        "  #G=create_graph()\n",
        "  i=0\n",
        "\n",
        "  while True:\n",
        "      if i >= x :\n",
        "          break\n",
        "\n",
        "      elif i>0:\n",
        "          min_cut= nx.algorithms.flow.maximum_flow(G,\"o\",\"d\")\n",
        "          #calculate the borders of the min_cut\n",
        "          borders,reachable = compute_max_flow_min_cut(G)\n",
        "          print(f\"borders{borders}\")\n",
        "\n",
        "          #Get all the mincuts\n",
        "          capacities= get_all_capacities(G) #get the capacities of the cuts\n",
        "          mask= capacities==min_cut[0] #Create a mask to know the cuts with the cpacity of the min_cut\n",
        "          positions= np.where(mask)[0] #Position of all the mincuts\n",
        "\n",
        "          #If just there is a mincut\n",
        "          if len(positions)==1:\n",
        "            #Get the minimum value of the borders of the mincut\n",
        "            #min_capacity_border = min(borders.values())\n",
        "            min_capacity_border = np.argmin([G[edge[0]][edge[1]]['capacity'] for edge in borders])\n",
        "            print(f\"cut with min capacity {np.array(cuts)[mask]}\")\n",
        "\n",
        "            #Get the border with the minimum value\n",
        "            u,v =borders[min_capacity_border]\n",
        "            print(f\"u{u},v{v}\")\n",
        "\n",
        "            #Assign the capacity\n",
        "            G[u][v]['capacity'] += 1\n",
        "            print(f\"The edge between {u} and {v} {G[u][v]['capacity']} has increase 1 unit\")\n",
        "\n",
        "          else:\n",
        "            #get common borders of the mincuts\n",
        "            cm = [common_borders[i] for i in positions]\n",
        "            count=Counter(sum(cm, []))\n",
        "            duplicados = [{G[elemento[0]][elemento[1]]['capacity']:elemento} for elemento, cuenta in count.items() if cuenta > 1]\n",
        "            min_duplicado = min(duplicados, key=lambda d: min(d.keys()))\n",
        "            u=list(min_duplicado.values())[0][0]\n",
        "            v=list(min_duplicado.values())[0][1]\n",
        "\n",
        "            G[u][v]['capacity'] += 1\n",
        "            print(f\"The edge between {u} and {v} {G[u][v]['capacity']} has increase 1 unit\")\n",
        "\n",
        "          max_flows[i],_=nx.algorithms.flow.maximum_flow(G,\"o\",\"d\")\n",
        "          print(\"*\"*50)\n",
        "      i +=1\n",
        "      print(i)\n",
        "\n",
        "  return max_flows\n"
      ],
      "metadata": {
        "id": "d9YUp_0jYbQf"
      },
      "id": "d9YUp_0jYbQf",
      "execution_count": 173,
      "outputs": []
    },
    {
      "cell_type": "code",
      "source": [
        "max_flows = assign_capacities(11)\n",
        "\n",
        "\n",
        "plt.plot(max_flows.keys(), max_flows.values(), marker = 'o')\n",
        "\n",
        "# Plot formatting\n",
        "plt.xlabel(' Extra Capacity')\n",
        "plt.ylabel('Max Flow')\n",
        "plt.title('Maximum Flow By Extra capacity ')\n",
        "plt.show()"
      ],
      "metadata": {
        "id": "YCHBTxZEGU5F",
        "outputId": "5e32d1b7-fabf-478e-d101-92ddba749603",
        "colab": {
          "base_uri": "https://localhost:8080/",
          "height": 1000
        }
      },
      "id": "YCHBTxZEGU5F",
      "execution_count": 174,
      "outputs": [
        {
          "output_type": "stream",
          "name": "stdout",
          "text": [
            "1\n",
            "borders[('c', 'd'), ('b', 'd'), ('a', 'd')]\n",
            "U = {'o'}, U^C = {'c', 'b', 'd', 'a'} -> C_U = 6\n",
            "U = {'o', 'a'}, U^C = {'c', 'b', 'd'} -> C_U = 6\n",
            "U = {'b', 'o', 'a'}, U^C = {'c', 'd'} -> C_U = 7\n",
            "U = {'c', 'b', 'o', 'a'}, U^C = {'d'} -> C_U = 5\n",
            "cut with min capacity [[{'c', 'b', 'o', 'a'} {'d'}]]\n",
            "uc,vd\n",
            "The edge between c and d 2 has increase 1 unit\n",
            "**************************************************\n",
            "2\n",
            "borders[('c', 'd'), ('b', 'd'), ('a', 'd')]\n",
            "U = {'o'}, U^C = {'c', 'b', 'd', 'a'} -> C_U = 6\n",
            "U = {'o', 'a'}, U^C = {'c', 'b', 'd'} -> C_U = 6\n",
            "U = {'b', 'o', 'a'}, U^C = {'c', 'd'} -> C_U = 7\n",
            "U = {'c', 'b', 'o', 'a'}, U^C = {'d'} -> C_U = 6\n",
            "The edge between a and d 3 has increase 1 unit\n",
            "**************************************************\n",
            "3\n",
            "borders[('o', 'a'), ('o', 'b')]\n",
            "U = {'o'}, U^C = {'c', 'b', 'd', 'a'} -> C_U = 6\n",
            "U = {'o', 'a'}, U^C = {'c', 'b', 'd'} -> C_U = 7\n",
            "U = {'b', 'o', 'a'}, U^C = {'c', 'd'} -> C_U = 8\n",
            "U = {'c', 'b', 'o', 'a'}, U^C = {'d'} -> C_U = 7\n",
            "cut with min capacity [[{'o'} {'c', 'b', 'd', 'a'}]]\n",
            "uo,va\n",
            "The edge between o and a 4 has increase 1 unit\n",
            "**************************************************\n",
            "4\n",
            "borders[('c', 'd'), ('b', 'd'), ('a', 'd')]\n",
            "U = {'o'}, U^C = {'c', 'b', 'd', 'a'} -> C_U = 7\n",
            "U = {'o', 'a'}, U^C = {'c', 'b', 'd'} -> C_U = 7\n",
            "U = {'b', 'o', 'a'}, U^C = {'c', 'd'} -> C_U = 8\n",
            "U = {'c', 'b', 'o', 'a'}, U^C = {'d'} -> C_U = 7\n",
            "The edge between o and b 4 has increase 1 unit\n",
            "**************************************************\n",
            "5\n",
            "borders[('c', 'd'), ('b', 'd'), ('a', 'd')]\n",
            "U = {'o'}, U^C = {'c', 'b', 'd', 'a'} -> C_U = 8\n",
            "U = {'o', 'a'}, U^C = {'c', 'b', 'd'} -> C_U = 8\n",
            "U = {'b', 'o', 'a'}, U^C = {'c', 'd'} -> C_U = 8\n",
            "U = {'c', 'b', 'o', 'a'}, U^C = {'d'} -> C_U = 7\n",
            "cut with min capacity [[{'c', 'b', 'o', 'a'} {'d'}]]\n",
            "uc,vd\n",
            "The edge between c and d 3 has increase 1 unit\n",
            "**************************************************\n",
            "6\n",
            "borders[('c', 'd'), ('b', 'd'), ('a', 'd')]\n",
            "U = {'o'}, U^C = {'c', 'b', 'd', 'a'} -> C_U = 8\n",
            "U = {'o', 'a'}, U^C = {'c', 'b', 'd'} -> C_U = 8\n",
            "U = {'b', 'o', 'a'}, U^C = {'c', 'd'} -> C_U = 8\n",
            "U = {'c', 'b', 'o', 'a'}, U^C = {'d'} -> C_U = 8\n",
            "The edge between b and d 3 has increase 1 unit\n",
            "**************************************************\n",
            "7\n",
            "borders[('o', 'b'), ('a', 'd'), ('a', 'b')]\n",
            "U = {'o'}, U^C = {'c', 'b', 'd', 'a'} -> C_U = 8\n",
            "U = {'o', 'a'}, U^C = {'c', 'b', 'd'} -> C_U = 8\n",
            "U = {'b', 'o', 'a'}, U^C = {'c', 'd'} -> C_U = 9\n",
            "U = {'c', 'b', 'o', 'a'}, U^C = {'d'} -> C_U = 9\n",
            "The edge between o and b 5 has increase 1 unit\n",
            "**************************************************\n",
            "8\n",
            "borders[('c', 'd'), ('b', 'd'), ('a', 'd')]\n",
            "U = {'o'}, U^C = {'c', 'b', 'd', 'a'} -> C_U = 9\n",
            "U = {'o', 'a'}, U^C = {'c', 'b', 'd'} -> C_U = 9\n",
            "U = {'b', 'o', 'a'}, U^C = {'c', 'd'} -> C_U = 9\n",
            "U = {'c', 'b', 'o', 'a'}, U^C = {'d'} -> C_U = 9\n",
            "The edge between a and d 4 has increase 1 unit\n",
            "**************************************************\n",
            "9\n",
            "borders[('o', 'a'), ('o', 'b')]\n",
            "U = {'o'}, U^C = {'c', 'b', 'd', 'a'} -> C_U = 9\n",
            "U = {'o', 'a'}, U^C = {'c', 'b', 'd'} -> C_U = 10\n",
            "U = {'b', 'o', 'a'}, U^C = {'c', 'd'} -> C_U = 10\n",
            "U = {'c', 'b', 'o', 'a'}, U^C = {'d'} -> C_U = 10\n",
            "cut with min capacity [[{'o'} {'c', 'b', 'd', 'a'}]]\n",
            "uo,va\n",
            "The edge between o and a 5 has increase 1 unit\n",
            "**************************************************\n",
            "10\n",
            "borders[('c', 'd'), ('b', 'd'), ('a', 'd')]\n",
            "U = {'o'}, U^C = {'c', 'b', 'd', 'a'} -> C_U = 10\n",
            "U = {'o', 'a'}, U^C = {'c', 'b', 'd'} -> C_U = 10\n",
            "U = {'b', 'o', 'a'}, U^C = {'c', 'd'} -> C_U = 10\n",
            "U = {'c', 'b', 'o', 'a'}, U^C = {'d'} -> C_U = 10\n",
            "The edge between b and d 4 has increase 1 unit\n",
            "**************************************************\n",
            "11\n"
          ]
        },
        {
          "output_type": "display_data",
          "data": {
            "text/plain": [
              "<Figure size 640x480 with 1 Axes>"
            ],
            "image/png": "[encoded data removed]"
          },
          "metadata": {}
        }
      ]
    },
    {
      "cell_type": "markdown",
      "source": [
        "## Point c"
      ],
      "metadata": {
        "id": "FQgLn67gP7Nz"
      },
      "id": "FQgLn67gP7Nz"
    },
    {
      "cell_type": "code",
      "source": [
        "#Create the original graph\n",
        "G=create_graph()\n",
        "G.add_edge('o', 'd', capacity=1) #add directed link e8\n",
        "pos = nx.nx_pydot.graphviz_layout(G)"
      ],
      "metadata": {
        "id": "Vd3dnZnt8fro"
      },
      "id": "Vd3dnZnt8fro",
      "execution_count": 175,
      "outputs": []
    },
    {
      "cell_type": "code",
      "source": [
        "#Plot the graph\n",
        "nx.draw_networkx_edge_labels(G,pos,edge_labels={(\"o\",\"a\"):'3',(\"o\",\"b\"):'3',(\"a\",\"d\"):'2',(\"b\",\"d\"):'2',(\"b\",\"c\"):'3',(\"c\",\"d\"):'1',(\"a\",\"b\"):'1', (\"o\",\"c\"):1, (\"o\", \"d\"):1},font_color='blue')\n",
        "nx.draw(G, pos, with_labels=True) #We have two rows so it is an undirected graph"
      ],
      "metadata": {
        "id": "MUJWomZapjnI",
        "outputId": "2881d6d9-bb53-4e2c-f633-e37dc7ae7d48",
        "colab": {
          "base_uri": "https://localhost:8080/",
          "height": 406
        }
      },
      "id": "MUJWomZapjnI",
      "execution_count": 179,
      "outputs": [
        {
          "output_type": "display_data",
          "data": {
            "text/plain": [
              "<Figure size 640x480 with 1 Axes>"
            ],
            "image/png": "[encoded data removed]"
          },
          "metadata": {}
        }
      ]
    },
    {
      "cell_type": "code",
      "source": [
        "#The cuts remains the same\n",
        "cuts = [\n",
        "    ({'o'}, {'a', 'b', 'c', 'd'}),\n",
        "    ({'o', 'a'}, {'b', 'c', 'd'}),\n",
        "    ({'o', 'a', 'b'}, {'c', 'd'}),\n",
        "    ({'o', 'a', 'b', 'c'}, {'d'})\n",
        "]"
      ],
      "metadata": {
        "id": "3eWPcNvL9k2s"
      },
      "id": "3eWPcNvL9k2s",
      "execution_count": 177,
      "outputs": []
    },
    {
      "cell_type": "code",
      "source": [
        "common_borders={}\n",
        "common_borders[0]= [(\"o\",\"b\"),(\"o\", \"d\")] #The first cut share the edge e3 with the cut #2\n",
        "common_borders[1]= [(\"a\",\"d\"), (\"o\",\"b\"),(\"o\", \"d\")] #The second cut shares the edge e2 with the cut #3 and #4\n",
        "common_borders[2]= [(\"a\",\"d\"), (\"b\",\"d\"),(\"o\", \"d\")] #The third cut shares the edge e2 with the cuts #3 and #4 and e4 with the cut#4\n",
        "common_borders[3]=[(\"a\",\"d\"), (\"b\",\"d\"),(\"o\", \"d\")] #The forth cut shares the edges e2 and e4 with the cut #3"
      ],
      "metadata": {
        "id": "M0XWtFp_B_Ot"
      },
      "id": "M0XWtFp_B_Ot",
      "execution_count": 180,
      "outputs": []
    },
    {
      "cell_type": "code",
      "source": [
        "#Use the previous function to know where to allocate the extra capacity\n",
        "max_flows = assign_capacities(11)\n",
        "\n",
        "\n",
        "plt.plot(max_flows.keys(), max_flows.values(), marker = 'o')\n",
        "\n",
        "# Plot formatting\n",
        "plt.xlabel(' Extra Capacity')\n",
        "plt.ylabel('Max Flow')\n",
        "plt.title('Maximum Flow By Extra capacity ')\n",
        "plt.show()"
      ],
      "metadata": {
        "id": "FsPwIHjgrYqj",
        "outputId": "325e687e-1a49-4ffb-be9e-2040d895d6de",
        "colab": {
          "base_uri": "https://localhost:8080/",
          "height": 1000
        }
      },
      "id": "FsPwIHjgrYqj",
      "execution_count": 181,
      "outputs": [
        {
          "output_type": "stream",
          "name": "stdout",
          "text": [
            "1\n",
            "borders[('o', 'a'), ('o', 'b'), ('o', 'd')]\n",
            "U = {'o'}, U^C = {'c', 'b', 'd', 'a'} -> C_U = 12\n",
            "U = {'o', 'a'}, U^C = {'c', 'b', 'd'} -> C_U = 13\n",
            "U = {'b', 'o', 'a'}, U^C = {'c', 'd'} -> C_U = 13\n",
            "U = {'c', 'b', 'o', 'a'}, U^C = {'d'} -> C_U = 13\n",
            "cut with min capacity [[{'o'} {'c', 'b', 'd', 'a'}]]\n",
            "uo,vd\n",
            "The edge between o and d 4 has increase 1 unit\n",
            "**************************************************\n",
            "2\n",
            "borders[('o', 'a'), ('o', 'b'), ('o', 'd')]\n",
            "U = {'o'}, U^C = {'c', 'b', 'd', 'a'} -> C_U = 13\n",
            "U = {'o', 'a'}, U^C = {'c', 'b', 'd'} -> C_U = 14\n",
            "U = {'b', 'o', 'a'}, U^C = {'c', 'd'} -> C_U = 14\n",
            "U = {'c', 'b', 'o', 'a'}, U^C = {'d'} -> C_U = 14\n",
            "cut with min capacity [[{'o'} {'c', 'b', 'd', 'a'}]]\n",
            "uo,va\n",
            "The edge between o and a 5 has increase 1 unit\n",
            "**************************************************\n",
            "3\n",
            "borders[('c', 'd'), ('b', 'd'), ('o', 'd'), ('a', 'd')]\n",
            "U = {'o'}, U^C = {'c', 'b', 'd', 'a'} -> C_U = 14\n",
            "U = {'o', 'a'}, U^C = {'c', 'b', 'd'} -> C_U = 14\n",
            "U = {'b', 'o', 'a'}, U^C = {'c', 'd'} -> C_U = 14\n",
            "U = {'c', 'b', 'o', 'a'}, U^C = {'d'} -> C_U = 14\n",
            "The edge between b and d 4 has increase 1 unit\n",
            "**************************************************\n",
            "4\n",
            "borders[('o', 'b'), ('o', 'd'), ('a', 'd'), ('a', 'b')]\n",
            "U = {'o'}, U^C = {'c', 'b', 'd', 'a'} -> C_U = 14\n",
            "U = {'o', 'a'}, U^C = {'c', 'b', 'd'} -> C_U = 14\n",
            "U = {'b', 'o', 'a'}, U^C = {'c', 'd'} -> C_U = 15\n",
            "U = {'c', 'b', 'o', 'a'}, U^C = {'d'} -> C_U = 15\n",
            "The edge between o and d 5 has increase 1 unit\n",
            "**************************************************\n",
            "5\n",
            "borders[('o', 'b'), ('o', 'd'), ('a', 'd'), ('a', 'b')]\n",
            "U = {'o'}, U^C = {'c', 'b', 'd', 'a'} -> C_U = 15\n",
            "U = {'o', 'a'}, U^C = {'c', 'b', 'd'} -> C_U = 15\n",
            "U = {'b', 'o', 'a'}, U^C = {'c', 'd'} -> C_U = 16\n",
            "U = {'c', 'b', 'o', 'a'}, U^C = {'d'} -> C_U = 16\n",
            "The edge between o and b 6 has increase 1 unit\n",
            "**************************************************\n",
            "6\n",
            "borders[('c', 'd'), ('b', 'd'), ('o', 'd'), ('a', 'd')]\n",
            "U = {'o'}, U^C = {'c', 'b', 'd', 'a'} -> C_U = 16\n",
            "U = {'o', 'a'}, U^C = {'c', 'b', 'd'} -> C_U = 16\n",
            "U = {'b', 'o', 'a'}, U^C = {'c', 'd'} -> C_U = 16\n",
            "U = {'c', 'b', 'o', 'a'}, U^C = {'d'} -> C_U = 16\n",
            "The edge between a and d 5 has increase 1 unit\n",
            "**************************************************\n",
            "7\n",
            "borders[('o', 'a'), ('o', 'b'), ('o', 'd')]\n",
            "U = {'o'}, U^C = {'c', 'b', 'd', 'a'} -> C_U = 16\n",
            "U = {'o', 'a'}, U^C = {'c', 'b', 'd'} -> C_U = 17\n",
            "U = {'b', 'o', 'a'}, U^C = {'c', 'd'} -> C_U = 17\n",
            "U = {'c', 'b', 'o', 'a'}, U^C = {'d'} -> C_U = 17\n",
            "cut with min capacity [[{'o'} {'c', 'b', 'd', 'a'}]]\n",
            "uo,va\n",
            "The edge between o and a 6 has increase 1 unit\n",
            "**************************************************\n",
            "8\n",
            "borders[('c', 'd'), ('b', 'd'), ('o', 'd'), ('a', 'd')]\n",
            "U = {'o'}, U^C = {'c', 'b', 'd', 'a'} -> C_U = 17\n",
            "U = {'o', 'a'}, U^C = {'c', 'b', 'd'} -> C_U = 17\n",
            "U = {'b', 'o', 'a'}, U^C = {'c', 'd'} -> C_U = 17\n",
            "U = {'c', 'b', 'o', 'a'}, U^C = {'d'} -> C_U = 17\n",
            "The edge between b and d 5 has increase 1 unit\n",
            "**************************************************\n",
            "9\n",
            "borders[('o', 'b'), ('o', 'd'), ('a', 'd'), ('a', 'b')]\n",
            "U = {'o'}, U^C = {'c', 'b', 'd', 'a'} -> C_U = 17\n",
            "U = {'o', 'a'}, U^C = {'c', 'b', 'd'} -> C_U = 17\n",
            "U = {'b', 'o', 'a'}, U^C = {'c', 'd'} -> C_U = 18\n",
            "U = {'c', 'b', 'o', 'a'}, U^C = {'d'} -> C_U = 18\n",
            "The edge between o and d 6 has increase 1 unit\n",
            "**************************************************\n",
            "10\n",
            "borders[('o', 'b'), ('o', 'd'), ('a', 'd'), ('a', 'b')]\n",
            "U = {'o'}, U^C = {'c', 'b', 'd', 'a'} -> C_U = 18\n",
            "U = {'o', 'a'}, U^C = {'c', 'b', 'd'} -> C_U = 18\n",
            "U = {'b', 'o', 'a'}, U^C = {'c', 'd'} -> C_U = 19\n",
            "U = {'c', 'b', 'o', 'a'}, U^C = {'d'} -> C_U = 19\n",
            "The edge between o and b 7 has increase 1 unit\n",
            "**************************************************\n",
            "11\n"
          ]
        },
        {
          "output_type": "display_data",
          "data": {
            "text/plain": [
              "<Figure size 640x480 with 1 Axes>"
            ],
            "image/png": "[encoded data removed]"
          },
          "metadata": {}
        }
      ]
    },
    {
      "cell_type": "markdown",
      "source": [
        "When we add the extra edge from o to do the min_cuts improves in a faster way given to the fact that now exist a direct path between the begining and the end of the graph that at the begining joined both cuts from the initial mincut."
      ],
      "metadata": {
        "id": "pBvWF1oZBYxK"
      },
      "id": "pBvWF1oZBYxK"
    }
  ],
  "metadata": {
    "kernelspec": {
      "display_name": "Python 3",
      "language": "python",
      "name": "python3"
    },
    "language_info": {
      "codemirror_mode": {
        "name": "ipython",
        "version": 2
      },
      "file_extension": ".py",
      "mimetype": "text/x-python",
      "name": "python",
      "nbconvert_exporter": "python",
      "pygments_lexer": "ipython2",
      "version": "2.7.6"
    },
    "colab": {
      "provenance": [],
      "include_colab_link": true
    }
  },
  "nbformat": 4,
  "nbformat_minor": 5
}