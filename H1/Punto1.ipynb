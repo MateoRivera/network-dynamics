{
  "cells": [
    {
      "cell_type": "markdown",
      "metadata": {
        "id": "view-in-github",
        "colab_type": "text"
      },
      "source": [
        "<a href=\"https://colab.research.google.com/github/MateoRivera/network-dynamics/blob/main/H1/Punto1.ipynb\" target=\"_parent\"><img src=\"https://colab.research.google.com/assets/colab-badge.svg\" alt=\"Open In Colab\"/></a>"
      ]
    },
    {
      "cell_type": "markdown",
      "source": [
        "## Point a"
      ],
      "metadata": {
        "id": "WtZqwtVPP09e"
      },
      "id": "WtZqwtVPP09e"
    },
    {
      "cell_type": "code",
      "source": [
        "#Import liberries\n",
        "import numpy as np\n",
        "import networkx as nx"
      ],
      "metadata": {
        "id": "hDRK3jk1SN-E"
      },
      "id": "hDRK3jk1SN-E",
      "execution_count": 1,
      "outputs": []
    },
    {
      "cell_type": "code",
      "execution_count": null,
      "id": "initial_id",
      "metadata": {
        "collapsed": true,
        "id": "initial_id"
      },
      "outputs": [],
      "source": [
        "#Create the graph\n",
        "G = nx.DiGraph()\n",
        "G.add_edge('o', 'a', capacity=3)  # e1\n",
        "G.add_edge('o', 'b', capacity=3)  # e3\n",
        "G.add_edge('a', 'd', capacity=2)  # e2\n",
        "G.add_edge('b', 'd', capacity=2)  # e4\n",
        "G.add_edge('b', 'c', capacity=3)  # e5\n",
        "G.add_edge('c', 'd', capacity=1)  # e6\n",
        "G.add_edge('a', 'b', capacity=1)  # e7\n"
      ]
    },
    {
      "cell_type": "code",
      "source": [
        "nx.draw_circular(G, with_labels=True) #We have two rows so it is an undirected graph"
      ],
      "metadata": {
        "colab": {
          "base_uri": "https://localhost:8080/",
          "height": 516
        },
        "id": "mHHSPyy-U1ma",
        "outputId": "764c2f86-68d7-4131-eb12-ee26b21cf553"
      },
      "id": "mHHSPyy-U1ma",
      "execution_count": null,
      "outputs": [
        {
          "output_type": "display_data",
          "data": {
            "text/plain": [
              "<Figure size 640x480 with 1 Axes>"
            ],
            "image/png": "[encoded data removed]"
          },
          "metadata": {}
        }
      ]
    },
    {
      "cell_type": "markdown",
      "source": [
        "## Point b"
      ],
      "metadata": {
        "id": "ho-MWIJKP5fq"
      },
      "id": "ho-MWIJKP5fq"
    },
    {
      "cell_type": "markdown",
      "source": [
        "## Point c"
      ],
      "metadata": {
        "id": "FQgLn67gP7Nz"
      },
      "id": "FQgLn67gP7Nz"
    }
  ],
  "metadata": {
    "kernelspec": {
      "display_name": "Python 3",
      "language": "python",
      "name": "python3"
    },
    "language_info": {
      "codemirror_mode": {
        "name": "ipython",
        "version": 2
      },
      "file_extension": ".py",
      "mimetype": "text/x-python",
      "name": "python",
      "nbconvert_exporter": "python",
      "pygments_lexer": "ipython2",
      "version": "2.7.6"
    },
    "colab": {
      "provenance": [],
      "include_colab_link": true
    }
  },
  "nbformat": 4,
  "nbformat_minor": 5
}