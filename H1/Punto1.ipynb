{
  "cells": [
    {
      "cell_type": "markdown",
      "metadata": {
        "id": "view-in-github",
        "colab_type": "text"
      },
      "source": [
        "<a href=\"https://colab.research.google.com/github/MateoRivera/network-dynamics/blob/main/H1/Punto1.ipynb\" target=\"_parent\"><img src=\"https://colab.research.google.com/assets/colab-badge.svg\" alt=\"Open In Colab\"/></a>"
      ]
    },
    {
      "cell_type": "markdown",
      "source": [
        "## Point a"
      ],
      "metadata": {
        "id": "WtZqwtVPP09e"
      },
      "id": "WtZqwtVPP09e"
    },
    {
      "cell_type": "code",
      "source": [
        "#Import liberries\n",
        "import numpy as np\n",
        "import networkx as nx"
      ],
      "metadata": {
        "id": "hDRK3jk1SN-E"
      },
      "id": "hDRK3jk1SN-E",
      "execution_count": 1,
      "outputs": []
    },
    {
      "cell_type": "code",
      "execution_count": 2,
      "id": "initial_id",
      "metadata": {
        "collapsed": true,
        "id": "initial_id"
      },
      "outputs": [],
      "source": [
        "#Create the graph\n",
        "G = nx.DiGraph()\n",
        "G.add_edge('o', 'a', capacity=3)  # e1\n",
        "G.add_edge('o', 'b', capacity=3)  # e3\n",
        "G.add_edge('a', 'd', capacity=2)  # e2\n",
        "G.add_edge('b', 'd', capacity=2)  # e4\n",
        "G.add_edge('b', 'c', capacity=3)  # e5\n",
        "G.add_edge('c', 'd', capacity=1)  # e6\n",
        "G.add_edge('a', 'b', capacity=1)  # e7\n"
      ]
    },
    {
      "cell_type": "code",
      "source": [
        "#Define graph as directed one\n",
        "pos = nx.spring_layout(G)"
      ],
      "metadata": {
        "id": "evsRvrKgemET"
      },
      "id": "evsRvrKgemET",
      "execution_count": 3,
      "outputs": []
    },
    {
      "cell_type": "code",
      "source": [
        "nx.draw_networkx_edge_labels(G,pos,edge_labels={(\"o\",\"a\"):'3',(\"o\",\"b\"):'3',(\"a\",\"d\"):'2',(\"b\",\"d\"):'2',(\"b\",\"c\"):'3',(\"c\",\"d\"):'1',(\"a\",\"b\"):'1'},font_color='blue')\n",
        "nx.draw(G, pos, with_labels=True) #We have two rows so it is an undirected graph"
      ],
      "metadata": {
        "colab": {
          "base_uri": "https://localhost:8080/",
          "height": 406
        },
        "id": "mHHSPyy-U1ma",
        "outputId": "759068cb-0eed-4034-d7e2-ea8305b5ea19"
      },
      "id": "mHHSPyy-U1ma",
      "execution_count": 8,
      "outputs": [
        {
          "output_type": "display_data",
          "data": {
            "text/plain": [
              "<Figure size 640x480 with 1 Axes>"
            ],
            "image/png": "[encoded data removed]"
          },
          "metadata": {}
        }
      ]
    },
    {
      "cell_type": "markdown",
      "source": [
        "**Cuts**\n",
        "- $U=\\{o\\},U^C=\\{a,b,c,d\\}$ -> $C_U = 6$\n",
        "- $U=\\{o,a\\},U^C=\\{b,c,d\\}$ -> $C_U = 4$\n",
        "- $U=\\{o,a,b\\},U^C=\\{c,d\\}$ -> $C_U = 5$\n",
        "- $U=\\{o,a,b,c\\},U^C=\\{d\\}$ -> $C_U = 5$"
      ],
      "metadata": {
        "id": "EX-0abIepo2l"
      },
      "id": "EX-0abIepo2l"
    },
    {
      "cell_type": "code",
      "source": [
        "nx.algorithms.flow.minimum_cut(G,\"o\",\"d\")"
      ],
      "metadata": {
        "colab": {
          "base_uri": "https://localhost:8080/"
        },
        "id": "ozy9_L4dph4u",
        "outputId": "8be26f0b-123d-4414-e007-329affa59959"
      },
      "id": "ozy9_L4dph4u",
      "execution_count": 5,
      "outputs": [
        {
          "output_type": "execute_result",
          "data": {
            "text/plain": [
              "(5, ({'a', 'b', 'c', 'o'}, {'d'}))"
            ]
          },
          "metadata": {},
          "execution_count": 5
        }
      ]
    },
    {
      "cell_type": "markdown",
      "source": [
        "## Point b"
      ],
      "metadata": {
        "id": "ho-MWIJKP5fq"
      },
      "id": "ho-MWIJKP5fq"
    },
    {
      "cell_type": "code",
      "source": [
        "# Current maxim flow\n",
        "nx.algorithms.flow.maximum_flow(G,\"o\",\"d\")\n",
        "#The result is the distribution of the quanitites that can go on each flow"
      ],
      "metadata": {
        "id": "iGHQW548udQB",
        "outputId": "a2a4e59a-1aad-4772-dac5-04c7c60cc757",
        "colab": {
          "base_uri": "https://localhost:8080/"
        }
      },
      "id": "iGHQW548udQB",
      "execution_count": 6,
      "outputs": [
        {
          "output_type": "execute_result",
          "data": {
            "text/plain": [
              "(5,\n",
              " {'o': {'a': 3, 'b': 2},\n",
              "  'a': {'d': 2, 'b': 1},\n",
              "  'b': {'d': 2, 'c': 1},\n",
              "  'd': {},\n",
              "  'c': {'d': 1}})"
            ]
          },
          "metadata": {},
          "execution_count": 6
        }
      ]
    },
    {
      "cell_type": "code",
      "source": [
        "#Generation of the bottle necks and then we can see how to optimize it\n"
      ],
      "metadata": {
        "id": "L3XBIaYqT9M0"
      },
      "id": "L3XBIaYqT9M0",
      "execution_count": null,
      "outputs": []
    },
    {
      "cell_type": "markdown",
      "source": [
        "## Point c"
      ],
      "metadata": {
        "id": "FQgLn67gP7Nz"
      },
      "id": "FQgLn67gP7Nz"
    }
  ],
  "metadata": {
    "kernelspec": {
      "display_name": "Python 3",
      "language": "python",
      "name": "python3"
    },
    "language_info": {
      "codemirror_mode": {
        "name": "ipython",
        "version": 2
      },
      "file_extension": ".py",
      "mimetype": "text/x-python",
      "name": "python",
      "nbconvert_exporter": "python",
      "pygments_lexer": "ipython2",
      "version": "2.7.6"
    },
    "colab": {
      "provenance": [],
      "include_colab_link": true
    }
  },
  "nbformat": 4,
  "nbformat_minor": 5
}