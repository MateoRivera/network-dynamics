{
  "cells": [
    {
      "cell_type": "markdown",
      "source": [
        "#Excercise 1"
      ],
      "metadata": {
        "id": "CqtYqZAjFPPk"
      },
      "id": "CqtYqZAjFPPk"
    },
    {
      "cell_type": "markdown",
      "source": [
        "## Point a\n",
        "\n",
        "Compute the capacity of all the cuts and find the minimum capacity to be removed for no feasible flow from o to d to exist."
      ],
      "metadata": {
        "id": "WtZqwtVPP09e"
      },
      "id": "WtZqwtVPP09e"
    },
    {
      "cell_type": "code",
      "source": [
        "#Import liberries\n",
        "import numpy as np\n",
        "import networkx as nx\n",
        "import matplotlib.pyplot as plt"
      ],
      "metadata": {
        "id": "hDRK3jk1SN-E"
      },
      "id": "hDRK3jk1SN-E",
      "execution_count": 1,
      "outputs": []
    },
    {
      "cell_type": "code",
      "execution_count": 2,
      "id": "initial_id",
      "metadata": {
        "collapsed": true,
        "id": "initial_id"
      },
      "outputs": [],
      "source": [
        "#Create the graph\n",
        "def create_graph():\n",
        "  G = nx.DiGraph()\n",
        "  G.add_edge('o', 'a', capacity=3)  # e1\n",
        "  G.add_edge('o', 'b', capacity=3)  # e3\n",
        "  G.add_edge('b', 'd', capacity=2)  # e4\n",
        "  G.add_edge('a', 'd', capacity=2)  # e2\n",
        "  G.add_edge('a', 'b', capacity=1)  # e7\n",
        "  G.add_edge('b', 'c', capacity=3)  # e5\n",
        "  G.add_edge('c', 'd', capacity=1)  # e6\n",
        "\n",
        "  return G\n"
      ]
    },
    {
      "cell_type": "code",
      "source": [
        "G= create_graph()"
      ],
      "metadata": {
        "id": "pGK05S4Zpzdu"
      },
      "id": "pGK05S4Zpzdu",
      "execution_count": 3,
      "outputs": []
    },
    {
      "cell_type": "code",
      "source": [
        "#Define the static positions of the nodes\n",
        "pos = {\"o\": (40, 20), \"a\": (60, 35), \"b\": (60, 20), \"c\": (60, 5), \"d\": (80, 20)}"
      ],
      "metadata": {
        "id": "kefywsifD5oO"
      },
      "id": "kefywsifD5oO",
      "execution_count": 4,
      "outputs": []
    },
    {
      "cell_type": "code",
      "source": [
        "nx.draw_networkx_edge_labels(G,pos,edge_labels={(\"o\",\"a\"):'3',(\"o\",\"b\"):'3',(\"a\",\"d\"):'2',(\"b\",\"d\"):'2',(\"b\",\"c\"):'3',(\"c\",\"d\"):'1',(\"a\",\"b\"):'1'},font_color='red')\n",
        "nx.draw(G, pos, with_labels=True)"
      ],
      "metadata": {
        "colab": {
          "base_uri": "https://localhost:8080/",
          "height": 406
        },
        "id": "mHHSPyy-U1ma",
        "outputId": "08ed66ee-53c3-46d5-a18a-1c7ffbe4051e"
      },
      "id": "mHHSPyy-U1ma",
      "execution_count": 5,
      "outputs": [
        {
          "output_type": "display_data",
          "data": {
            "text/plain": [
              "<Figure size 640x480 with 1 Axes>"
            ],
            "image/png": "[encoded data removed]"
          },
          "metadata": {}
        }
      ]
    },
    {
      "cell_type": "markdown",
      "source": [
        "According to the min-cut theorem, when we calculate the min-cut capacity, we obtain the minimum capacity among all cuts between the source and destination nodes, 𝑜-𝑑.\n",
        "\n",
        "In the maximum flow problem, a flow is feasible if it satisfies the following constraints:\n",
        "\n",
        "*   It has no negative throughput.\n",
        "*   It respects the capacity limits.\n",
        "*   It maintains mass conservation at each node..\n",
        "\n",
        "Moreover, by analyzing the min-cuts, we can observe that the minimum capacity belongs to the final cut.\n",
        "\n",
        "The minimum total capacity that needs to be removed from the network to make\n",
        "𝑑 unreachable from 𝑜 coincides with the min-cut capacity. In this case, it corresponds to the cut between {o,a,b,c} and {d}, with a total capacity of 5.\n",
        "\n"
      ],
      "metadata": {
        "id": "1_5j6fFtGA8z"
      },
      "id": "1_5j6fFtGA8z"
    },
    {
      "cell_type": "markdown",
      "source": [
        "**Cuts**\n",
        "- $U=\\{o\\},U^C=\\{a,b,c,d\\}$ -> $C_U = 6$\n",
        "- $U=\\{o,a\\},U^C=\\{b,c,d\\}$ -> $C_U = 6$\n",
        "- $U=\\{o,a,b\\},U^C=\\{c,d\\}$ -> $C_U = 7$\n",
        "- $U=\\{o,a,b,c\\},U^C=\\{d\\}$ -> $C_U = 5$"
      ],
      "metadata": {
        "id": "EX-0abIepo2l"
      },
      "id": "EX-0abIepo2l"
    },
    {
      "cell_type": "code",
      "source": [
        "#Further-theorem\n",
        "nx.algorithms.flow.minimum_cut(G,\"o\",\"d\")"
      ],
      "metadata": {
        "colab": {
          "base_uri": "https://localhost:8080/"
        },
        "id": "ozy9_L4dph4u",
        "outputId": "64d7c8c4-1168-443e-f115-7b4904c79a37"
      },
      "id": "ozy9_L4dph4u",
      "execution_count": 6,
      "outputs": [
        {
          "output_type": "execute_result",
          "data": {
            "text/plain": [
              "(5, ({'a', 'b', 'c', 'o'}, {'d'}))"
            ]
          },
          "metadata": {},
          "execution_count": 6
        }
      ]
    },
    {
      "cell_type": "code",
      "source": [
        "G.edges()"
      ],
      "metadata": {
        "id": "cOVU5H6_MYR1",
        "outputId": "7e9c26fe-05dc-46c6-cd3d-7b6789a85c3f",
        "colab": {
          "base_uri": "https://localhost:8080/"
        }
      },
      "id": "cOVU5H6_MYR1",
      "execution_count": 7,
      "outputs": [
        {
          "output_type": "execute_result",
          "data": {
            "text/plain": [
              "OutEdgeView([('o', 'a'), ('o', 'b'), ('a', 'd'), ('a', 'b'), ('b', 'd'), ('b', 'c'), ('c', 'd')])"
            ]
          },
          "metadata": {},
          "execution_count": 7
        }
      ]
    },
    {
      "cell_type": "code",
      "source": [
        "# Función para calcular la capacidad de un corte dado\n",
        "\n",
        "def calculate_cut_capacity(U, U_complement, G):\n",
        "    capacity = 0\n",
        "    for u in U: #Iterate over the reachable nodes\n",
        "        for v in G[u]: #Iterate over the edges of the reachable nodes\n",
        "            if v in U_complement:#If the edge is shared with the non_reachable section (which in the first case would be a connection with d)\n",
        "                capacity += G[u][v]['capacity']\n",
        "    return capacity\n",
        "\n",
        "# Lista de cortes específicos que queremos calcular\n",
        "cuts = [\n",
        "    ({'o'}, {'a', 'b', 'c', 'd'}),\n",
        "    ({'o', 'a'}, {'b', 'c', 'd'}),\n",
        "    ({'o', 'a', 'b'}, {'c', 'd'}),\n",
        "    ({'o', 'a', 'b', 'c'}, {'d'})\n",
        "]\n",
        "\n",
        "# Cálculo de los cortes y su capacidad\n",
        "def get_all_capacities(G):\n",
        "  capacities=[]\n",
        "  for U, U_complement in cuts:\n",
        "      capacity = calculate_cut_capacity(U, U_complement, G)\n",
        "      capacities.append(capacity)\n",
        "      print(f\"U = {U}, U^C = {U_complement} -> C_U = {capacity}\")\n",
        "\n",
        "  return np.array(capacities)\n",
        "\n",
        "\n"
      ],
      "metadata": {
        "id": "Wkxd8uxXKVGy"
      },
      "id": "Wkxd8uxXKVGy",
      "execution_count": 8,
      "outputs": []
    },
    {
      "cell_type": "code",
      "source": [
        "get_all_capacities(G)"
      ],
      "metadata": {
        "id": "He4Ew4wtQ1qG",
        "outputId": "899e8334-fb3e-4f64-a1f6-bbf43215670d",
        "colab": {
          "base_uri": "https://localhost:8080/"
        }
      },
      "id": "He4Ew4wtQ1qG",
      "execution_count": 9,
      "outputs": [
        {
          "output_type": "stream",
          "name": "stdout",
          "text": [
            "U = {'o'}, U^C = {'b', 'a', 'c', 'd'} -> C_U = 6\n",
            "U = {'a', 'o'}, U^C = {'b', 'c', 'd'} -> C_U = 6\n",
            "U = {'b', 'a', 'o'}, U^C = {'c', 'd'} -> C_U = 7\n",
            "U = {'b', 'a', 'o', 'c'}, U^C = {'d'} -> C_U = 5\n"
          ]
        },
        {
          "output_type": "execute_result",
          "data": {
            "text/plain": [
              "array([6, 6, 7, 5])"
            ]
          },
          "metadata": {},
          "execution_count": 9
        }
      ]
    },
    {
      "cell_type": "markdown",
      "source": [
        "## Point b\n",
        "You are given $x = 0$ extra units of capacity (x e Z). How should you distribute them in order to maximize the throughput that can be sent from o to d? Plot the maximum throughput from o to d as a function of $x \\geq 0$.\n",
        "\n"
      ],
      "metadata": {
        "id": "ho-MWIJKP5fq"
      },
      "id": "ho-MWIJKP5fq"
    },
    {
      "cell_type": "markdown",
      "source": [
        "**Max flow min cut Theorem**: the maximal flow that can send from $o$ to $d$ equals the minimal cut capacity among the o-d cuts of the network."
      ],
      "metadata": {
        "id": "04ncc7ez3rF2"
      },
      "id": "04ncc7ez3rF2"
    },
    {
      "cell_type": "code",
      "source": [
        "# Current maxim flow\n",
        "min_cut= nx.algorithms.flow.maximum_flow(G,\"o\",\"d\")\n",
        "# we gey the maximal throughput, plus a dictionary containing the value of the flow that goes through each edge.\n",
        "min_cut"
      ],
      "metadata": {
        "id": "iGHQW548udQB",
        "outputId": "e6d4e1d5-f7f0-4860-f809-fb7574635bc6",
        "colab": {
          "base_uri": "https://localhost:8080/"
        }
      },
      "id": "iGHQW548udQB",
      "execution_count": 10,
      "outputs": [
        {
          "output_type": "execute_result",
          "data": {
            "text/plain": [
              "(5,\n",
              " {'o': {'a': 3, 'b': 2},\n",
              "  'a': {'d': 2, 'b': 1},\n",
              "  'b': {'d': 2, 'c': 1},\n",
              "  'd': {},\n",
              "  'c': {'d': 1}})"
            ]
          },
          "metadata": {},
          "execution_count": 10
        }
      ]
    },
    {
      "cell_type": "markdown",
      "source": [
        "The extra units of capacity should be allocated along the edges of the min-cut to balance capacities between cuts without creating or increasing bottlenecks. This allocation is done incrementally, adding one unit at a time along the min-cut edges. After each allocation, the min-cut is recalculated to check if capacities have changed or if a new min-cut has been created."
      ],
      "metadata": {
        "id": "xcykrkqQ7RsP"
      },
      "id": "xcykrkqQ7RsP"
    },
    {
      "cell_type": "code",
      "source": [
        "def compute_max_flow_min_cut(G):\n",
        "\n",
        "    # Compute minimum cut (capacity of the cut)\n",
        "    _, partition = nx.minimum_cut(G, 'o', 'd')\n",
        "\n",
        "    # Get the edges in the minimum cut\n",
        "    reachable, non_reachable = partition #In the first case the reachable variable corresponds to o,a,b,c and non_reachable to d.\n",
        "\n",
        "\n",
        "    cutset={} #Start dictionary to save the edges between the cuts\n",
        "    esges=[]\n",
        "\n",
        "    for u in reachable: #Iterate over the reachable nodes\n",
        "        for v in G[u]: #Iterate over the edges of the reachable nodes\n",
        "            if v in non_reachable:#If the edge is shared with the non_reachable section (which in the first case would be a connection with d)\n",
        "              #cutset[G[u][v]['capacity']]=(u, v) #Save the edges that connect the cuts\n",
        "              esges.append((u,v))\n",
        "\n",
        "    return esges, reachable\n",
        "\n",
        "   # return cutset"
      ],
      "metadata": {
        "id": "L3XBIaYqT9M0"
      },
      "id": "L3XBIaYqT9M0",
      "execution_count": 11,
      "outputs": []
    },
    {
      "cell_type": "code",
      "source": [
        "G=create_graph()\n",
        "borders,reachable = compute_max_flow_min_cut(G) #We get the borders that connect U and Uc"
      ],
      "metadata": {
        "id": "lVLM2qN-IaH_"
      },
      "id": "lVLM2qN-IaH_",
      "execution_count": 12,
      "outputs": []
    },
    {
      "cell_type": "code",
      "source": [
        "borders"
      ],
      "metadata": {
        "id": "BU4fkQEOadSC",
        "outputId": "b4c71135-240a-46bc-ecdd-22e49392440e",
        "colab": {
          "base_uri": "https://localhost:8080/"
        }
      },
      "id": "BU4fkQEOadSC",
      "execution_count": 13,
      "outputs": [
        {
          "output_type": "execute_result",
          "data": {
            "text/plain": [
              "[('b', 'd'), ('a', 'd'), ('c', 'd')]"
            ]
          },
          "metadata": {},
          "execution_count": 13
        }
      ]
    },
    {
      "cell_type": "code",
      "source": [
        "reachable"
      ],
      "metadata": {
        "id": "BwAjrlLhI8O4",
        "outputId": "02aa0de7-0986-4fd6-9084-a4e4e4489444",
        "colab": {
          "base_uri": "https://localhost:8080/"
        }
      },
      "id": "BwAjrlLhI8O4",
      "execution_count": 14,
      "outputs": [
        {
          "output_type": "execute_result",
          "data": {
            "text/plain": [
              "{'a', 'b', 'c', 'o'}"
            ]
          },
          "metadata": {},
          "execution_count": 14
        }
      ]
    },
    {
      "cell_type": "markdown",
      "source": [
        "In order to assign the extra capacities we need to know also what are the shared edges of the cuts because in this way if we increase one unit to one of this common edges we will be increassing the capacity of 2 min-cuts"
      ],
      "metadata": {
        "id": "Qx8eQRMOdwnl"
      },
      "id": "Qx8eQRMOdwnl"
    },
    {
      "cell_type": "code",
      "source": [
        "common_borders={}\n",
        "common_borders[0]= [(\"o\",\"b\")] #The first cut share the edge e3 with the cut #2\n",
        "common_borders[1]= [(\"a\",\"d\"), (\"o\",\"b\")] #The second cut shares the edge e2 with the cut #3 and #4\n",
        "common_borders[2]= [(\"a\",\"d\"), (\"b\",\"d\")] #The third cut shares the edge e2 with the cuts #3 and #4 and e4 with the cut#4\n",
        "common_borders[3]=[(\"a\",\"d\"), (\"b\",\"d\")] #The forth cut shares the edges e2 and e4 with the cut #3"
      ],
      "metadata": {
        "id": "SXBtNO0ma2RH"
      },
      "id": "SXBtNO0ma2RH",
      "execution_count": 15,
      "outputs": []
    },
    {
      "cell_type": "code",
      "source": [
        "set('ab').intersection({'a'})"
      ],
      "metadata": {
        "id": "ODOO3UW6MN1p",
        "outputId": "435bb4e7-70e5-4e6b-d5fd-9db5dbfd6d9f",
        "colab": {
          "base_uri": "https://localhost:8080/"
        }
      },
      "id": "ODOO3UW6MN1p",
      "execution_count": 16,
      "outputs": [
        {
          "output_type": "execute_result",
          "data": {
            "text/plain": [
              "{'a'}"
            ]
          },
          "metadata": {},
          "execution_count": 16
        }
      ]
    },
    {
      "cell_type": "code",
      "source": [
        "set(common_borders[1])"
      ],
      "metadata": {
        "id": "sICExVudMeUc",
        "outputId": "a2a9ec87-afbd-4b79-f125-bc73684c4fd7",
        "colab": {
          "base_uri": "https://localhost:8080/"
        }
      },
      "id": "sICExVudMeUc",
      "execution_count": 17,
      "outputs": [
        {
          "output_type": "execute_result",
          "data": {
            "text/plain": [
              "{('a', 'd'), ('o', 'b')}"
            ]
          },
          "metadata": {},
          "execution_count": 17
        }
      ]
    },
    {
      "cell_type": "code",
      "source": [
        "set(common_borders[0])"
      ],
      "metadata": {
        "id": "8ZNOVvIrMvG7",
        "outputId": "692d6230-448e-4934-c620-8b2b917ccb03",
        "colab": {
          "base_uri": "https://localhost:8080/"
        }
      },
      "id": "8ZNOVvIrMvG7",
      "execution_count": 18,
      "outputs": [
        {
          "output_type": "execute_result",
          "data": {
            "text/plain": [
              "{('o', 'b')}"
            ]
          },
          "metadata": {},
          "execution_count": 18
        }
      ]
    },
    {
      "cell_type": "code",
      "source": [
        "set(common_borders[1]).intersection(set(common_borders[0]))"
      ],
      "metadata": {
        "id": "nZSu4UyqL9P2",
        "outputId": "efac70f1-714a-4846-ba9c-4b32808b08e9",
        "colab": {
          "base_uri": "https://localhost:8080/"
        }
      },
      "id": "nZSu4UyqL9P2",
      "execution_count": 19,
      "outputs": [
        {
          "output_type": "execute_result",
          "data": {
            "text/plain": [
              "{('o', 'b')}"
            ]
          },
          "metadata": {},
          "execution_count": 19
        }
      ]
    },
    {
      "cell_type": "code",
      "source": [
        "set(common_borders[1]).intersection(set(common_borders[2])).intersection(set(common_borders[3]))"
      ],
      "metadata": {
        "id": "DXz4nU0uRL2U",
        "outputId": "44cef428-c8a7-41ae-b24c-acff76f55269",
        "colab": {
          "base_uri": "https://localhost:8080/"
        }
      },
      "id": "DXz4nU0uRL2U",
      "execution_count": 20,
      "outputs": [
        {
          "output_type": "execute_result",
          "data": {
            "text/plain": [
              "{('a', 'd')}"
            ]
          },
          "metadata": {},
          "execution_count": 20
        }
      ]
    },
    {
      "cell_type": "code",
      "source": [
        "set(common_borders[0])\n"
      ],
      "metadata": {
        "id": "JJlrnZLERb9Q",
        "outputId": "27fce57c-0da7-4cd2-a889-cc4f9248afa6",
        "colab": {
          "base_uri": "https://localhost:8080/"
        }
      },
      "id": "JJlrnZLERb9Q",
      "execution_count": 21,
      "outputs": [
        {
          "output_type": "execute_result",
          "data": {
            "text/plain": [
              "{('o', 'b')}"
            ]
          },
          "metadata": {},
          "execution_count": 21
        }
      ]
    },
    {
      "cell_type": "code",
      "source": [
        "common_borders"
      ],
      "metadata": {
        "id": "QOIl42zuci1w",
        "outputId": "5d264c32-b8f1-4965-ecea-57652375de51",
        "colab": {
          "base_uri": "https://localhost:8080/"
        }
      },
      "id": "QOIl42zuci1w",
      "execution_count": 22,
      "outputs": [
        {
          "output_type": "execute_result",
          "data": {
            "text/plain": [
              "{0: [('o', 'b')],\n",
              " 1: [('a', 'd'), ('o', 'b')],\n",
              " 2: [('a', 'd'), ('b', 'd')],\n",
              " 3: [('a', 'd'), ('b', 'd')]}"
            ]
          },
          "metadata": {},
          "execution_count": 22
        }
      ]
    },
    {
      "cell_type": "code",
      "source": [
        "#We need to know which number of cut is the mincut\n",
        "def get_numcut():\n",
        "\n",
        "  for num_cut in range(len(cuts)):\n",
        "    if sorted(cuts[num_cut][0])==sorted(reachable):\n",
        "      number_cut=num_cut\n",
        "\n",
        "  return number_cut"
      ],
      "metadata": {
        "id": "aJmOKq2TitQZ"
      },
      "id": "aJmOKq2TitQZ",
      "execution_count": 23,
      "outputs": []
    },
    {
      "cell_type": "code",
      "source": [
        "num= get_numcut()"
      ],
      "metadata": {
        "id": "Ht3a0_qJLoOs"
      },
      "id": "Ht3a0_qJLoOs",
      "execution_count": 24,
      "outputs": []
    },
    {
      "cell_type": "code",
      "source": [
        "capacities= get_all_capacities(G)"
      ],
      "metadata": {
        "id": "kMl4gbJyVMNv",
        "outputId": "20986810-1c53-47ec-fd6b-73f46e5453c5",
        "colab": {
          "base_uri": "https://localhost:8080/"
        }
      },
      "id": "kMl4gbJyVMNv",
      "execution_count": 25,
      "outputs": [
        {
          "output_type": "stream",
          "name": "stdout",
          "text": [
            "U = {'o'}, U^C = {'b', 'a', 'c', 'd'} -> C_U = 6\n",
            "U = {'a', 'o'}, U^C = {'b', 'c', 'd'} -> C_U = 6\n",
            "U = {'b', 'a', 'o'}, U^C = {'c', 'd'} -> C_U = 7\n",
            "U = {'b', 'a', 'o', 'c'}, U^C = {'d'} -> C_U = 5\n"
          ]
        }
      ]
    },
    {
      "cell_type": "code",
      "source": [
        "capacities\n",
        "mask= capacities==6\n",
        "positions=np.where(mask)\n",
        "positions"
      ],
      "metadata": {
        "id": "Wv98XLCDLv0e",
        "outputId": "5cd385dc-1adb-476b-b120-188499597fd0",
        "colab": {
          "base_uri": "https://localhost:8080/"
        }
      },
      "id": "Wv98XLCDLv0e",
      "execution_count": 26,
      "outputs": [
        {
          "output_type": "execute_result",
          "data": {
            "text/plain": [
              "(array([0, 1]),)"
            ]
          },
          "metadata": {},
          "execution_count": 26
        }
      ]
    },
    {
      "cell_type": "code",
      "source": [
        "for i in range(len(positions)):\n",
        "              if i+1>len(positions):\n",
        "                break\n",
        "              selected_border= set(common_borders[i]).intersection(set(common_borders[i+1]))"
      ],
      "metadata": {
        "id": "GSyw_IxEjn0Y"
      },
      "id": "GSyw_IxEjn0Y",
      "execution_count": 27,
      "outputs": []
    },
    {
      "cell_type": "code",
      "source": [
        "a=selected_border.pop()"
      ],
      "metadata": {
        "id": "TGSyPux0Tss8"
      },
      "id": "TGSyPux0Tss8",
      "execution_count": 28,
      "outputs": []
    },
    {
      "cell_type": "code",
      "source": [
        "a[0]"
      ],
      "metadata": {
        "id": "ogLsVyP4c8m6",
        "outputId": "c86dae6e-6965-4189-be4d-938669b0a608",
        "colab": {
          "base_uri": "https://localhost:8080/",
          "height": 36
        }
      },
      "id": "ogLsVyP4c8m6",
      "execution_count": 29,
      "outputs": [
        {
          "output_type": "execute_result",
          "data": {
            "text/plain": [
              "'o'"
            ],
            "application/vnd.google.colaboratory.intrinsic+json": {
              "type": "string"
            }
          },
          "metadata": {},
          "execution_count": 29
        }
      ]
    },
    {
      "cell_type": "code",
      "source": [
        "common_borders[0]"
      ],
      "metadata": {
        "id": "0Xz4v2WNjhbO",
        "outputId": "d6597672-53f9-40d6-cc68-5ca5a9e3e8c2",
        "colab": {
          "base_uri": "https://localhost:8080/"
        }
      },
      "id": "0Xz4v2WNjhbO",
      "execution_count": 30,
      "outputs": [
        {
          "output_type": "execute_result",
          "data": {
            "text/plain": [
              "[('o', 'b')]"
            ]
          },
          "metadata": {},
          "execution_count": 30
        }
      ]
    },
    {
      "cell_type": "code",
      "source": [
        "set(common_borders[positions[0][0]]).intersection(set(common_borders[positions[0][1]]))  # Iniciar con el primer conjunto de bordes"
      ],
      "metadata": {
        "id": "vl48D4eVahvL",
        "outputId": "997969c7-728a-47cc-a362-f6eba39e79a3",
        "colab": {
          "base_uri": "https://localhost:8080/"
        }
      },
      "id": "vl48D4eVahvL",
      "execution_count": 31,
      "outputs": [
        {
          "output_type": "execute_result",
          "data": {
            "text/plain": [
              "{('o', 'b')}"
            ]
          },
          "metadata": {},
          "execution_count": 31
        }
      ]
    },
    {
      "cell_type": "markdown",
      "source": [
        "We need to satisfy that when there are more than 1 minucut the edge which must be located the extracapacity is the one that is shared by them"
      ],
      "metadata": {
        "id": "bAxbFXQsSPqQ"
      },
      "id": "bAxbFXQsSPqQ"
    },
    {
      "cell_type": "code",
      "source": [
        "def assign_capacities(x):\n",
        "\n",
        "  max_flows = {}\n",
        "  G=create_graph()\n",
        "  i=0\n",
        "  while True:\n",
        "      if i == x :\n",
        "          break\n",
        "\n",
        "      elif i>0:\n",
        "\n",
        "          #calculate the borders of the min_cut\n",
        "          borders,reachable = compute_max_flow_min_cut(G)\n",
        "          print(f\"borders{borders}\")\n",
        "\n",
        "          #Get all the mincuts\n",
        "          capacities= get_all_capacities(G) #get the capacities of the cuts\n",
        "          mask= capacities==min_cut[0] #Create a mask to know the cuts with the cpacity of the min_cut\n",
        "          positions= np.where(mask) #Position of all the mincuts\n",
        "\n",
        "          #If just there is a mincut\n",
        "          if len(positions)==1:\n",
        "            #Get the minimum value of the borders of the mincut\n",
        "            #min_capacity_border = min(borders.values())\n",
        "            min_capacity_border = np.argmin([G[edge[0]][edge[1]]['capacity'] for edge in borders])\n",
        "            print(f\"border with min capacity {borders[min_capacity_border]}\")\n",
        "\n",
        "            #Get the border with the minimum value\n",
        "            u,v =borders[min_capacity_border]\n",
        "            print(f\"u{u},v{v}\")\n",
        "\n",
        "            #Assign the capacity\n",
        "            G[u][v]['capacity'] += 1\n",
        "            print(f\"The edge between {u} and {v} {G[u][v]['capacity']} has increase 1 unit\")\n",
        "\n",
        "          else:\n",
        "            #get common borders of the mincuts\n",
        "\n",
        "            for i in range(len(positions)):\n",
        "              if i+1>len(positions):\n",
        "                break\n",
        "              selected_border= set(common_borders[i]).intersection(set(common_borders[i+1]))\n",
        "\n",
        "            nodes=selected_border.pop()\n",
        "            u=nodes[0]\n",
        "            v=nodes[1]\n",
        "            G[u][v]['capacity'] += 1\n",
        "            print(f\"The edge between {u} and {v} {G[u][v]['capacity']} has increase 1 unit\")\n",
        "\n",
        "          max_flows[i],_=nx.algorithms.flow.maximum_flow(G,\"o\",\"d\")\n",
        "\n",
        "      i +=1\n",
        "\n",
        "  return max_flows\n"
      ],
      "metadata": {
        "id": "d9YUp_0jYbQf"
      },
      "id": "d9YUp_0jYbQf",
      "execution_count": 32,
      "outputs": []
    },
    {
      "cell_type": "code",
      "source": [
        "max_flows = assign_capacities(11)\n",
        "\n",
        "plt.plot(max_flows.keys(), max_flows.values(), marker = 'o')\n",
        "\n",
        "# Plot formatting\n",
        "plt.xlabel(' Extra Capacity')\n",
        "plt.ylabel('Max Flow')\n",
        "plt.title('Maximum Flow By Extra capacity ')\n",
        "plt.show()"
      ],
      "metadata": {
        "id": "YCHBTxZEGU5F",
        "outputId": "1284fc21-e71a-4392-f58c-e10be6e7d9f9",
        "colab": {
          "base_uri": "https://localhost:8080/",
          "height": 1000
        }
      },
      "id": "YCHBTxZEGU5F",
      "execution_count": 33,
      "outputs": [
        {
          "output_type": "stream",
          "name": "stdout",
          "text": [
            "borders[('b', 'd'), ('a', 'd'), ('c', 'd')]\n",
            "U = {'o'}, U^C = {'b', 'a', 'c', 'd'} -> C_U = 6\n",
            "U = {'a', 'o'}, U^C = {'b', 'c', 'd'} -> C_U = 6\n",
            "U = {'b', 'a', 'o'}, U^C = {'c', 'd'} -> C_U = 7\n",
            "U = {'b', 'a', 'o', 'c'}, U^C = {'d'} -> C_U = 5\n",
            "min_capacity_border 2\n",
            "uc,vd\n",
            "The edge between c and d 2 has increase 1 unit\n",
            "borders[('b', 'd'), ('a', 'd'), ('c', 'd')]\n",
            "U = {'o'}, U^C = {'b', 'a', 'c', 'd'} -> C_U = 6\n",
            "U = {'a', 'o'}, U^C = {'b', 'c', 'd'} -> C_U = 6\n",
            "U = {'b', 'a', 'o'}, U^C = {'c', 'd'} -> C_U = 7\n",
            "U = {'b', 'a', 'o', 'c'}, U^C = {'d'} -> C_U = 6\n",
            "min_capacity_border 0\n",
            "ub,vd\n",
            "The edge between b and d 3 has increase 1 unit\n",
            "borders[('a', 'd'), ('a', 'b'), ('o', 'b')]\n",
            "U = {'o'}, U^C = {'b', 'a', 'c', 'd'} -> C_U = 6\n",
            "U = {'a', 'o'}, U^C = {'b', 'c', 'd'} -> C_U = 6\n",
            "U = {'b', 'a', 'o'}, U^C = {'c', 'd'} -> C_U = 8\n",
            "U = {'b', 'a', 'o', 'c'}, U^C = {'d'} -> C_U = 7\n",
            "min_capacity_border 1\n",
            "ua,vb\n",
            "The edge between a and b 2 has increase 1 unit\n",
            "borders[('o', 'a'), ('o', 'b')]\n",
            "U = {'o'}, U^C = {'b', 'a', 'c', 'd'} -> C_U = 6\n",
            "U = {'a', 'o'}, U^C = {'b', 'c', 'd'} -> C_U = 7\n",
            "U = {'b', 'a', 'o'}, U^C = {'c', 'd'} -> C_U = 8\n",
            "U = {'b', 'a', 'o', 'c'}, U^C = {'d'} -> C_U = 7\n",
            "min_capacity_border 0\n",
            "uo,va\n",
            "The edge between o and a 4 has increase 1 unit\n",
            "borders[('b', 'd'), ('a', 'd'), ('c', 'd')]\n",
            "U = {'o'}, U^C = {'b', 'a', 'c', 'd'} -> C_U = 7\n",
            "U = {'a', 'o'}, U^C = {'b', 'c', 'd'} -> C_U = 7\n",
            "U = {'b', 'a', 'o'}, U^C = {'c', 'd'} -> C_U = 8\n",
            "U = {'b', 'a', 'o', 'c'}, U^C = {'d'} -> C_U = 7\n",
            "min_capacity_border 1\n",
            "ua,vd\n",
            "The edge between a and d 3 has increase 1 unit\n",
            "borders[('o', 'a'), ('o', 'b')]\n",
            "U = {'o'}, U^C = {'b', 'a', 'c', 'd'} -> C_U = 7\n",
            "U = {'a', 'o'}, U^C = {'b', 'c', 'd'} -> C_U = 8\n",
            "U = {'b', 'a', 'o'}, U^C = {'c', 'd'} -> C_U = 9\n",
            "U = {'b', 'a', 'o', 'c'}, U^C = {'d'} -> C_U = 8\n",
            "min_capacity_border 1\n",
            "uo,vb\n",
            "The edge between o and b 4 has increase 1 unit\n",
            "borders[('b', 'd'), ('a', 'd'), ('c', 'd')]\n",
            "U = {'o'}, U^C = {'b', 'a', 'c', 'd'} -> C_U = 8\n",
            "U = {'a', 'o'}, U^C = {'b', 'c', 'd'} -> C_U = 9\n",
            "U = {'b', 'a', 'o'}, U^C = {'c', 'd'} -> C_U = 9\n",
            "U = {'b', 'a', 'o', 'c'}, U^C = {'d'} -> C_U = 8\n",
            "min_capacity_border 2\n",
            "uc,vd\n",
            "The edge between c and d 3 has increase 1 unit\n",
            "borders[('o', 'a'), ('o', 'b')]\n",
            "U = {'o'}, U^C = {'b', 'a', 'c', 'd'} -> C_U = 8\n",
            "U = {'a', 'o'}, U^C = {'b', 'c', 'd'} -> C_U = 9\n",
            "U = {'b', 'a', 'o'}, U^C = {'c', 'd'} -> C_U = 9\n",
            "U = {'b', 'a', 'o', 'c'}, U^C = {'d'} -> C_U = 9\n",
            "min_capacity_border 0\n",
            "uo,va\n",
            "The edge between o and a 5 has increase 1 unit\n",
            "borders[('b', 'd'), ('a', 'd'), ('c', 'd')]\n",
            "U = {'o'}, U^C = {'b', 'a', 'c', 'd'} -> C_U = 9\n",
            "U = {'a', 'o'}, U^C = {'b', 'c', 'd'} -> C_U = 9\n",
            "U = {'b', 'a', 'o'}, U^C = {'c', 'd'} -> C_U = 9\n",
            "U = {'b', 'a', 'o', 'c'}, U^C = {'d'} -> C_U = 9\n",
            "min_capacity_border 0\n",
            "ub,vd\n",
            "The edge between b and d 4 has increase 1 unit\n",
            "borders[('a', 'd'), ('a', 'b'), ('o', 'b')]\n",
            "U = {'o'}, U^C = {'b', 'a', 'c', 'd'} -> C_U = 9\n",
            "U = {'a', 'o'}, U^C = {'b', 'c', 'd'} -> C_U = 9\n",
            "U = {'b', 'a', 'o'}, U^C = {'c', 'd'} -> C_U = 10\n",
            "U = {'b', 'a', 'o', 'c'}, U^C = {'d'} -> C_U = 10\n",
            "min_capacity_border 1\n",
            "ua,vb\n",
            "The edge between a and b 3 has increase 1 unit\n"
          ]
        },
        {
          "output_type": "display_data",
          "data": {
            "text/plain": [
              "<Figure size 640x480 with 1 Axes>"
            ],
            "image/png": "[encoded data removed]"
          },
          "metadata": {}
        }
      ]
    },
    {
      "cell_type": "markdown",
      "source": [
        "## Point c"
      ],
      "metadata": {
        "id": "FQgLn67gP7Nz"
      },
      "id": "FQgLn67gP7Nz"
    },
    {
      "cell_type": "markdown",
      "source": [
        "De acuerdo con las capacidades de las aristas, los enlaces entre los nodos a-d y c-d son los de menor capacidad, por lo que aquí se está configurando claramente un cuello de botella, de forma que si se añadiera un nuevo enlace entre a y d, se configuraría un camino directo entre a y d, ya que las capacidades entre  \n",
        "o → b → d serían las mismas, y sólo restaria distribuir proporcionalmente las capacidades adicionales entre los edges que presentan cuellos de botella"
      ],
      "metadata": {
        "id": "vrln22vrk3Gm"
      },
      "id": "vrln22vrk3Gm"
    },
    {
      "cell_type": "code",
      "source": [
        "def compute_max_flow_min_cut(G):\n",
        "\n",
        "    # Compute minimum cut (capacity of the cut)\n",
        "    _, partition = nx.minimum_cut(G, 'o', 'd')\n",
        "\n",
        "    # Get the edges in the minimum cut\n",
        "    reachable, non_reachable = partition\n",
        "\n",
        "\n",
        "    cutset={}\n",
        "    for u in reachable:\n",
        "        for v in G[u]:\n",
        "            if v in non_reachable:\n",
        "                cutset[G[u][v]['capacity']]=(u, v)\n",
        "\n",
        "\n",
        "    return cutset\n",
        "max_flows = {}\n",
        "\n",
        "\n",
        "G=create_graph()\n",
        "i=0\n",
        "G.add_edge('o', 'c', capacity=1)\n",
        "while True:\n",
        "    if i == 11 :\n",
        "        break\n",
        "    elif i>0:\n",
        "        borders = compute_max_flow_min_cut(G)\n",
        "\n",
        "        min_capacity_border = min(borders.keys())\n",
        "        u,v =borders[min_capacity_border]\n",
        "        G[u][v]['capacity'] += 1\n",
        "        max_flows[i],_=nx.algorithms.flow.maximum_flow(G,\"o\",\"d\")\n",
        "    i +=1\n",
        "\n",
        "plt.plot(max_flows.keys(), max_flows.values(), marker = 'o')\n",
        "\n",
        "# Plot formatting\n",
        "plt.xlabel(' Extra Capacity')\n",
        "plt.ylabel('Max Flow')\n",
        "plt.title('Maximum Flow By Extra capacity ')\n",
        "plt.show()\n"
      ],
      "metadata": {
        "id": "A_sRysoclSqS",
        "outputId": "ea742ea9-bce5-40cd-d5f6-516f5d739ad8",
        "colab": {
          "base_uri": "https://localhost:8080/",
          "height": 472
        }
      },
      "id": "A_sRysoclSqS",
      "execution_count": 34,
      "outputs": [
        {
          "output_type": "display_data",
          "data": {
            "text/plain": [
              "<Figure size 640x480 with 1 Axes>"
            ],
            "image/png": "[encoded data removed]"
          },
          "metadata": {}
        }
      ]
    },
    {
      "cell_type": "markdown",
      "source": [
        "Del ejercicio anterior se desprende de que manera se debe distribuir los  incremento unitarios sobre las aristas de la red. en funcion maximizar el througput de la red . ahora luego de  establecerse dicha distribucion. se tendria un MultiGrafo G'. sobre el cual se puede establecer que el maximo flow es igual al mincut, el cual fija  entre otras cosas que el corte minimo sobre G' debe configurarse de manera que dicho corte genere los siguientes conjuntos  U={'o'} y U\"={'c', 'a', 'd', 'b'}. al establecer dicha particion encontramos que los edges e1 y e3 son los borders que interconectan los conjuntos U y U\", de forma que una estrategia para maximar el throughput apartir del configuracion de un nuevo edge sobre la red, seria incrementando el mincut de forma que dicha particion involucre un nuevo border aparte de e1 y e3. ahora si establecemos un nuevo edge e8 entre los nodos o y c, encontramos que efectivamente dicho edge sera un nuevo border perteneciente a dicha particion el cual incrementa la capacidad asociada al mincut= C(e1)+C(e3)+C(e8) y por ende Maximo Throughput. hecho que efectivamente se constata en el anterior grafico\n"
      ],
      "metadata": {
        "id": "eQnc1yIl7PaA"
      },
      "id": "eQnc1yIl7PaA"
    },
    {
      "cell_type": "code",
      "source": [],
      "metadata": {
        "id": "d7J6GaZ41Rr-"
      },
      "id": "d7J6GaZ41Rr-",
      "execution_count": 34,
      "outputs": []
    },
    {
      "cell_type": "markdown",
      "source": [
        "Add the extra edge to the original graph"
      ],
      "metadata": {
        "id": "JgR6D-kMpfUu"
      },
      "id": "JgR6D-kMpfUu"
    },
    {
      "cell_type": "code",
      "source": [
        "G.add_edge('o', 'c', capacity=1) #add directed link e8\n",
        "\n",
        "#Plot the new graph\n",
        "nx.draw_networkx_edge_labels(G,pos,edge_labels={(\"o\",\"a\"):'3',(\"o\",\"b\"):'3',(\"a\",\"d\"):'2',(\"b\",\"d\"):'2',(\"b\",\"c\"):'3',(\"c\",\"d\"):'1',(\"a\",\"b\"):'1', (\"o\",\"c\"):1},font_color='blue')\n",
        "nx.draw(G, pos, with_labels=True) #We have two rows so it is an undirected graph"
      ],
      "metadata": {
        "id": "MUJWomZapjnI",
        "outputId": "d0c86f11-c37a-4af8-c843-b115d7dea513",
        "colab": {
          "base_uri": "https://localhost:8080/",
          "height": 406
        }
      },
      "id": "MUJWomZapjnI",
      "execution_count": 35,
      "outputs": [
        {
          "output_type": "display_data",
          "data": {
            "text/plain": [
              "<Figure size 640x480 with 1 Axes>"
            ],
            "image/png": "[encoded data removed]"
          },
          "metadata": {}
        }
      ]
    },
    {
      "cell_type": "code",
      "source": [
        "#Use the previous function to know where to allocate the extra capacity\n"
      ],
      "metadata": {
        "id": "FsPwIHjgrYqj"
      },
      "id": "FsPwIHjgrYqj",
      "execution_count": 36,
      "outputs": []
    },
    {
      "cell_type": "markdown",
      "source": [],
      "metadata": {
        "id": "blAmDwNPrWbN"
      },
      "id": "blAmDwNPrWbN"
    }
  ],
  "metadata": {
    "kernelspec": {
      "display_name": "Python 3",
      "language": "python",
      "name": "python3"
    },
    "language_info": {
      "codemirror_mode": {
        "name": "ipython",
        "version": 2
      },
      "file_extension": ".py",
      "mimetype": "text/x-python",
      "name": "python",
      "nbconvert_exporter": "python",
      "pygments_lexer": "ipython2",
      "version": "2.7.6"
    },
    "colab": {
      "provenance": []
    }
  },
  "nbformat": 4,
  "nbformat_minor": 5
}