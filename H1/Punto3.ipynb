{
  "cells": [
    {
      "cell_type": "code",
      "source": [
        "!wget --no-cache -O init.py -q https://raw.githubusercontent.com/MateoRivera/network-dynamics/refs/heads/main/H1/init.py?token=GHSAT0AAAAAACZHWD3M4LTCY4SSOFRQD7KWZZFABIQ\n",
        "from init import init; init(force_download=False)\n"
      ],
      "metadata": {
        "colab": {
          "base_uri": "https://localhost:8080/"
        },
        "id": "q2wd_zAeTi-_",
        "outputId": "5e63ac8e-6fcc-4e13-eecb-fe3bbb685846"
      },
      "id": "q2wd_zAeTi-_",
      "execution_count": 1,
      "outputs": [
        {
          "output_type": "stream",
          "name": "stdout",
          "text": [
            "replicating local resources\n"
          ]
        }
      ]
    },
    {
      "cell_type": "code",
      "source": [
        "from scipy.io import loadmat\n",
        "import numpy as np\n",
        "import networkx as nx\n",
        "import matplotlib.pyplot as plt\n",
        "import cvxpy as cp\n",
        "\n",
        "%matplotlib inline"
      ],
      "metadata": {
        "id": "Lo2bG64GZEGD"
      },
      "id": "Lo2bG64GZEGD",
      "execution_count": 15,
      "outputs": []
    },
    {
      "cell_type": "markdown",
      "source": [
        "**Exercise 3.** We are given the highway network in Los Angeles, see Figure 2. To simplify theExercise 3. We are given the highway network in Los Angeles, see Figure 2. To simplify the problem, an approximate highway map is given in Figure 3, covering part of the real highway network. The node-link incidence matrix B, for this traﬃc network is given in the ﬁle traﬃc.mat.\n",
        "The rows of B are associated with the nodes of the network and the columns of B with the links.\n",
        "The i-th column of B has 1 in the row corresponding to the tail node of link ei and (−1) in the row corresponding to the head node of link ei. Each node represents an intersection between highways (and some of the area around)\n",
        "problem, an approximate highway map is given in Figure 3, covering part of the real highway network. The node-link incidence matrix B, for this traffic network is given in the file traffic.mat.\n",
        "The rows of B are associated with the nodes of the network and the columns of B with the links.\n",
        "The i-th column of B has 1 in the row corresponding to the tail node of link ei and (−1) in the row corresponding to the head node of link ei. Each node represents an intersection between highways (and some of the area around).\n",
        "\n",
        "Each link ei ∈ {e1, . . . , e28}, has a maximum flow capacity cei . The capacities are given as a vector ce in the file capacities.mat. Furthermore, each link has a minimum travelling time lei ,\n",
        "which the drivers experience when the road is empty. In the same manner as for the capacities, the minimum travelling times are given as a vector le in the file traveltime.mat. These values are  [...]\n",
        "\n"
      ],
      "metadata": {
        "id": "gFbuY8WiZEnd"
      },
      "id": "gFbuY8WiZEnd"
    },
    {
      "cell_type": "markdown",
      "source": [
        "##a\n",
        "Find the shortest path between node 1 and 17. This is equivalent to the fastest path (path with shortest traveling time) in an empty network."
      ],
      "metadata": {
        "id": "7NHmCaN2RhwQ"
      },
      "id": "7NHmCaN2RhwQ"
    },
    {
      "cell_type": "code",
      "source": [
        "f = loadmat('resources/flow.mat')[\"flow\"].reshape(28,)\n",
        "C = loadmat('resources/capacities.mat')[\"capacities\"].reshape(28,)\n",
        "B = loadmat('resources/traffic.mat')[\"traffic\"]\n",
        "l = loadmat('resources/traveltime.mat')[\"traveltime\"].reshape(28,)"
      ],
      "metadata": {
        "id": "pwBM4EjMZyrK"
      },
      "id": "pwBM4EjMZyrK",
      "execution_count": 19,
      "outputs": []
    },
    {
      "cell_type": "code",
      "source": [
        "np.greater_equal(f,C)"
      ],
      "metadata": {
        "colab": {
          "base_uri": "https://localhost:8080/"
        },
        "id": "4xC3Nn1bevIR",
        "outputId": "b0b05a5c-e669-4d94-98ac-d971b737da5f"
      },
      "id": "4xC3Nn1bevIR",
      "execution_count": 35,
      "outputs": [
        {
          "output_type": "execute_result",
          "data": {
            "text/plain": [
              "array([False, False, False, False, False, False, False, False, False,\n",
              "       False, False, False, False, False, False, False, False, False,\n",
              "       False, False, False, False, False, False, False, False, False,\n",
              "       False])"
            ]
          },
          "metadata": {},
          "execution_count": 35
        }
      ]
    },
    {
      "cell_type": "markdown",
      "source": [
        "There's not any flow greater than it's capacity"
      ],
      "metadata": {
        "id": "wJUWq_aPfbHb"
      },
      "id": "wJUWq_aPfbHb"
    },
    {
      "cell_type": "code",
      "source": [
        "def tau_e(le,fe,ce):\n",
        "    return (le)/(1-(fe/ce))\n",
        "\n",
        "tau_e = np.vectorize(tau_e)"
      ],
      "metadata": {
        "id": "ZQ_5o5MUfqRZ"
      },
      "id": "ZQ_5o5MUfqRZ",
      "execution_count": 37,
      "outputs": []
    },
    {
      "cell_type": "code",
      "source": [
        "tau_e(l,f,C)"
      ],
      "metadata": {
        "colab": {
          "base_uri": "https://localhost:8080/"
        },
        "id": "fH-M6bzVf4p0",
        "outputId": "347c17ea-00c5-43f6-ea6b-e08a93fbb849"
      },
      "id": "fH-M6bzVf4p0",
      "execution_count": 41,
      "outputs": [
        {
          "output_type": "execute_result",
          "data": {
            "text/plain": [
              "array([0.81385187, 0.16425176, 0.77890095, 1.24060609, 0.40216493,\n",
              "       0.97010263, 1.0052853 , 0.55488373, 2.57831211, 0.75572643,\n",
              "       0.64312759, 0.60783782, 0.37276437, 1.48290744, 0.77119811,\n",
              "       0.68057619, 0.7039339 , 0.40328494, 0.12835809, 0.24764477,\n",
              "       0.76798977, 0.92208754, 0.4690847 , 0.18976613, 1.10261191,\n",
              "       0.27798866, 1.22283492, 1.43592615])"
            ]
          },
          "metadata": {},
          "execution_count": 41
        }
      ]
    },
    {
      "cell_type": "code",
      "source": [
        "n_edges = B.shape[1]\n",
        "\n",
        "# exogenous flow vector: one unit of flow enters the origin and exits the destination node\n",
        "# the solution of the shortest path problem is actually independent on the throughput value because of the linearity\n",
        "tau = tau_e(l,f,C)\n",
        "\n",
        "nu = (B@f)\n",
        "\n",
        "\n",
        "nu, len(nu), sum(nu)\n"
      ],
      "metadata": {
        "colab": {
          "base_uri": "https://localhost:8080/"
        },
        "id": "2hrsZNzKaJWt",
        "outputId": "14f27ec0-8c1b-4c2c-d646-0faf5f8d8ded"
      },
      "id": "2hrsZNzKaJWt",
      "execution_count": 53,
      "outputs": [
        {
          "output_type": "execute_result",
          "data": {
            "text/plain": [
              "(array([ 16282,   9094,  19448,   4957,   -746,   4768,    413,     -2,\n",
              "         -5671,   1169,     -5,  -7131,   -380,  -7412,  -7810,  -3430,\n",
              "        -23544], dtype=int32),\n",
              " 17,\n",
              " 0)"
            ]
          },
          "metadata": {},
          "execution_count": 53
        }
      ]
    },
    {
      "cell_type": "code",
      "source": [
        "objective = cp.Minimize(l.T @ f)\n",
        "constraints = [B @ f == nu, f >=0]\n",
        "prob = cp.Problem(objective, constraints)\n",
        "\n",
        "# The optimal objective value is returned by `prob.solve()`.\n",
        "result = prob.solve()\n",
        "# The optimal value for f is stored in `f.value`.\n",
        "print(\"Optimal f:\", f.value)"
      ],
      "metadata": {
        "id": "h20zHT_miUvN"
      },
      "id": "h20zHT_miUvN",
      "execution_count": null,
      "outputs": []
    },
    {
      "cell_type": "markdown",
      "source": [
        "##b"
      ],
      "metadata": {
        "id": "EV9bYX46RoEb"
      },
      "id": "EV9bYX46RoEb"
    }
  ],
  "metadata": {
    "kernelspec": {
      "display_name": "Python 3",
      "language": "python",
      "name": "python3"
    },
    "language_info": {
      "codemirror_mode": {
        "name": "ipython",
        "version": 2
      },
      "file_extension": ".py",
      "mimetype": "text/x-python",
      "name": "python",
      "nbconvert_exporter": "python",
      "pygments_lexer": "ipython2",
      "version": "2.7.6"
    },
    "colab": {
      "provenance": []
    }
  },
  "nbformat": 4,
  "nbformat_minor": 5
}