{
  "cells": [
    {
      "cell_type": "code",
      "source": [],
      "metadata": {
        "id": "WrY7xdBhRkxZ"
      },
      "id": "WrY7xdBhRkxZ",
      "execution_count": null,
      "outputs": []
    },
    {
      "cell_type": "code",
      "execution_count": null,
      "id": "initial_id",
      "metadata": {
        "collapsed": true,
        "id": "initial_id"
      },
      "outputs": [],
      "source": []
    },
    {
      "cell_type": "markdown",
      "source": [],
      "metadata": {
        "id": "is5qwDmbRlbN"
      },
      "id": "is5qwDmbRlbN"
    },
    {
      "cell_type": "markdown",
      "source": [
        "##a\n"
      ],
      "metadata": {
        "id": "7NHmCaN2RhwQ"
      },
      "id": "7NHmCaN2RhwQ"
    },
    {
      "cell_type": "markdown",
      "source": [
        "##b"
      ],
      "metadata": {
        "id": "EV9bYX46RoEb"
      },
      "id": "EV9bYX46RoEb"
    }
  ],
  "metadata": {
    "kernelspec": {
      "display_name": "Python 3",
      "language": "python",
      "name": "python3"
    },
    "language_info": {
      "codemirror_mode": {
        "name": "ipython",
        "version": 2
      },
      "file_extension": ".py",
      "mimetype": "text/x-python",
      "name": "python",
      "nbconvert_exporter": "python",
      "pygments_lexer": "ipython2",
      "version": "2.7.6"
    },
    "colab": {
      "provenance": []
    }
  },
  "nbformat": 4,
  "nbformat_minor": 5
}