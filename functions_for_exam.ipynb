{
  "nbformat": 4,
  "nbformat_minor": 0,
  "metadata": {
    "colab": {
      "provenance": [],
      "include_colab_link": true
    },
    "kernelspec": {
      "name": "python3",
      "display_name": "Python 3"
    },
    "language_info": {
      "name": "python"
    }
  },
  "cells": [
    {
      "cell_type": "markdown",
      "metadata": {
        "id": "view-in-github",
        "colab_type": "text"
      },
      "source": [
        "<a href=\"https://colab.research.google.com/github/MateoRivera/network-dynamics/blob/main/functions_for_exam.ipynb\" target=\"_parent\"><img src=\"https://colab.research.google.com/assets/colab-badge.svg\" alt=\"Open In Colab\"/></a>"
      ]
    },
    {
      "cell_type": "code",
      "execution_count": 1,
      "metadata": {
        "id": "sNdx4MKWdokE"
      },
      "outputs": [],
      "source": [
        "# Handle matrices and vectors\n",
        "import numpy as np\n",
        "\n",
        "# Handle Graphs\n",
        "import networkx as nx\n",
        "\n",
        "# Plot\n",
        "import matplotlib.pyplot as plt\n",
        "import seaborn as sns\n",
        "sns.set()"
      ]
    },
    {
      "cell_type": "markdown",
      "source": [
        "## Algebraic graph theory"
      ],
      "metadata": {
        "id": "oVlFPKG0XhnM"
      }
    },
    {
      "cell_type": "code",
      "source": [
        "def compute_P(W):\n",
        "    # P = D^-1 @ W\n",
        "    D = np.diag(W.sum(axis=1))\n",
        "    return np.linalg.inv(D) @ W\n",
        "\n",
        "def compute_L(W):\n",
        "    # L = D - W\n",
        "    D = np.diag(W.sum(axis=1))\n",
        "    return D - W\n",
        "\n",
        "def compute_invariant_distributions_pi(W, target_eigenvalue = 1, use_transition_matrix=True, decimal_precision=3):\n",
        "    P = compute_P(W) if use_transition_matrix else W\n",
        "    values, vectors = np.linalg.eig(P.T)\n",
        "    target_eigenvalue = [i for i, eigenvalue in enumerate(values) if np.isclose(values[i], target_eigenvalue)]\n",
        "\n",
        "    pi = vectors[:, target_eigenvalue].real\n",
        "    for i in range(pi.shape[1]):\n",
        "        pi[:, i] *= np.linalg.norm(pi[:, i])\n",
        "        pi[:, i] /= np.sum(pi[:, i])\n",
        "\n",
        "    round_vectorized = np.vectorize(lambda x: round(x, decimal_precision))\n",
        "    pi = round_vectorized(pi)\n",
        "    print(\"⚠️ Note: This result is an approximation due to potential numerical errors ⚠️\")\n",
        "    return pi\n",
        "\n",
        "def compute_Laplace_invariant_distribution_pi_bar(W, decimal_precision = 3):\n",
        "    return compute_invariant_distributions_pi(compute_L(W), target_eigenvalue=0, use_transition_matrix=False, decimal_precision=decimal_precision)"
      ],
      "metadata": {
        "id": "LQVd5ItlYNly"
      },
      "execution_count": 2,
      "outputs": []
    },
    {
      "cell_type": "markdown",
      "source": [
        "## Averaging models with stubborn nodes"
      ],
      "metadata": {
        "id": "pXUNYuKW_kdX"
      }
    },
    {
      "cell_type": "code",
      "source": [
        "def compute_equilibria_with_stubborn(W, stubborn_id, u):\n",
        "    u = np.array(u)\n",
        "    if len(u.shape) == 1: # Is not a column vector\n",
        "        u = u.reshape(-1,1)\n",
        "    P = compute_P(W)\n",
        "    regular_id = list(filter(lambda x: x not in stubborn_id, range(len(W))))\n",
        "    Q = P[np.ix_(regular_id, regular_id)]\n",
        "    E = P[np.ix_(regular_id, stubborn_id)]\n",
        "    I = np.eye(len(Q))\n",
        "\n",
        "    return np.linalg.inv((I-Q)) @ (E @ u)"
      ],
      "metadata": {
        "id": "VdQ0LFg4_yz6"
      },
      "execution_count": 3,
      "outputs": []
    },
    {
      "cell_type": "markdown",
      "source": [
        "## Examples of use"
      ],
      "metadata": {
        "id": "yxZFpNj_GnOM"
      }
    },
    {
      "cell_type": "code",
      "source": [
        "W = np.array([\n",
        "    [0, 0, 1, 0, 0, 0, 0, 0, 0],\n",
        "    [1, 0, 0, 0, 0, 0, 0, 0, 0],\n",
        "    [0, 1, 0, 0, 0, 0, 0, 0, 0],\n",
        "    [0, 0, 1, 0, 0, 0, 0, 0, 0],\n",
        "    [0, 0, 1, 1, 0, 1, 1, 0, 0],\n",
        "    [0, 0, 0, 1, 1, 0, 1, 0, 0],\n",
        "    [0, 0, 0, 0, 0, 0, 0, 0, 1],\n",
        "    [0, 0, 0, 0, 0, 0, 1, 0, 1],\n",
        "    [0, 0, 0, 0, 0, 0, 0, 1, 0]\n",
        "])\n",
        "\n",
        "compute_invariant_distributions_pi(W)"
      ],
      "metadata": {
        "colab": {
          "base_uri": "https://localhost:8080/"
        },
        "id": "bhlkPFafZqJh",
        "outputId": "4fb37b36-6ef5-4a8b-eddd-bb963b9fe621"
      },
      "execution_count": 4,
      "outputs": [
        {
          "output_type": "stream",
          "name": "stdout",
          "text": [
            "⚠️ Note: This result is an approximation due to potential numerical errors ⚠️\n"
          ]
        },
        {
          "output_type": "execute_result",
          "data": {
            "text/plain": [
              "array([[ 0.333,  0.   ],\n",
              "       [ 0.333,  0.   ],\n",
              "       [ 0.333,  0.   ],\n",
              "       [-0.   ,  0.   ],\n",
              "       [-0.   , -0.   ],\n",
              "       [-0.   ,  0.   ],\n",
              "       [-0.   ,  0.2  ],\n",
              "       [-0.   ,  0.4  ],\n",
              "       [-0.   ,  0.4  ]])"
            ]
          },
          "metadata": {},
          "execution_count": 4
        }
      ]
    },
    {
      "cell_type": "code",
      "source": [
        "compute_Laplace_invariant_distribution_pi_bar(W, 5)"
      ],
      "metadata": {
        "colab": {
          "base_uri": "https://localhost:8080/"
        },
        "id": "yj_Nybfn-O7B",
        "outputId": "90913b9a-6acc-4e1b-b2f1-9388d73e91a4"
      },
      "execution_count": 5,
      "outputs": [
        {
          "output_type": "stream",
          "name": "stdout",
          "text": [
            "⚠️ Note: This result is an approximation due to potential numerical errors ⚠️\n"
          ]
        },
        {
          "output_type": "execute_result",
          "data": {
            "text/plain": [
              "array([[ 0.33333,  0.01351],\n",
              "       [ 0.33333,  0.01351],\n",
              "       [ 0.33333,  0.01351],\n",
              "       [ 0.     , -0.     ],\n",
              "       [ 0.     ,  0.     ],\n",
              "       [ 0.     , -0.     ],\n",
              "       [ 0.     ,  0.23987],\n",
              "       [ 0.     ,  0.23987],\n",
              "       [ 0.     ,  0.47973]])"
            ]
          },
          "metadata": {},
          "execution_count": 5
        }
      ]
    },
    {
      "cell_type": "code",
      "source": [
        "compute_equilibria_with_stubborn(W, [0,8], np.array([[0], [1]]))"
      ],
      "metadata": {
        "colab": {
          "base_uri": "https://localhost:8080/"
        },
        "id": "dvv8ROzQDDbx",
        "outputId": "5f1945b3-91d9-4dc5-a820-b3880c3072bf"
      },
      "execution_count": 6,
      "outputs": [
        {
          "output_type": "execute_result",
          "data": {
            "text/plain": [
              "array([[0.        ],\n",
              "       [0.        ],\n",
              "       [0.        ],\n",
              "       [0.36363636],\n",
              "       [0.45454545],\n",
              "       [1.        ],\n",
              "       [1.        ]])"
            ]
          },
          "metadata": {},
          "execution_count": 6
        }
      ]
    },
    {
      "cell_type": "code",
      "source": [
        "compute_equilibria_with_stubborn(W, [0,8], [0,1])"
      ],
      "metadata": {
        "colab": {
          "base_uri": "https://localhost:8080/"
        },
        "id": "nCUCcqgWDRXB",
        "outputId": "3814790f-1391-4248-ee78-bd39caa55531"
      },
      "execution_count": 7,
      "outputs": [
        {
          "output_type": "execute_result",
          "data": {
            "text/plain": [
              "array([[0.        ],\n",
              "       [0.        ],\n",
              "       [0.        ],\n",
              "       [0.36363636],\n",
              "       [0.45454545],\n",
              "       [1.        ],\n",
              "       [1.        ]])"
            ]
          },
          "metadata": {},
          "execution_count": 7
        }
      ]
    },
    {
      "cell_type": "code",
      "source": [
        "W = np.array([[0, 1, 1, 0, 0, 0, 0, 0, 0, 0],\n",
        "            [0, 0, 1, 1, 1, 0, 0, 0, 0, 0],\n",
        "            [1, 0, 0, 0, 0, 0, 1, 0, 0, 1],\n",
        "            [0, 0, 0, 0, 1, 1, 0, 0, 0, 0],\n",
        "            [0, 0, 0, 1, 0, 0, 0, 0, 0, 0],\n",
        "            [0, 0, 0, 1, 0, 0, 0, 0, 0, 0],\n",
        "            [0, 0, 0, 0, 0, 0, 0, 0, 1, 1],\n",
        "            [0, 0, 0, 0, 0, 0, 1, 0, 0, 1],\n",
        "            [0, 0, 0, 0, 0, 0, 1, 1, 0, 0],\n",
        "            [0, 0, 0, 0, 0, 0, 0, 1, 1, 0]])\n",
        "pi_0 = compute_invariant_distributions_pi(W)[:, 0]\n",
        "pi_0"
      ],
      "metadata": {
        "id": "_aIBsVyU6lJC",
        "colab": {
          "base_uri": "https://localhost:8080/"
        },
        "outputId": "3646b3ee-5f27-4d98-a2e0-d45d56ae3160"
      },
      "execution_count": 8,
      "outputs": [
        {
          "output_type": "stream",
          "name": "stdout",
          "text": [
            "⚠️ Note: This result is an approximation due to potential numerical errors ⚠️\n"
          ]
        },
        {
          "output_type": "execute_result",
          "data": {
            "text/plain": [
              "array([ 0.   , -0.   , -0.   ,  0.214,  0.107,  0.107,  0.143,  0.143,\n",
              "        0.143,  0.143])"
            ]
          },
          "metadata": {},
          "execution_count": 8
        }
      ]
    },
    {
      "cell_type": "code",
      "source": [
        "compute_P(W).T @ np.array([0, 0, 0, 1/2, 1/4, 1/4, 0,0,0,0])"
      ],
      "metadata": {
        "id": "PcO8ixmrSvM6",
        "outputId": "f94ce368-5e4a-465f-e541-4a03f3aec989",
        "colab": {
          "base_uri": "https://localhost:8080/"
        }
      },
      "execution_count": 9,
      "outputs": [
        {
          "output_type": "execute_result",
          "data": {
            "text/plain": [
              "array([0.  , 0.  , 0.  , 0.5 , 0.25, 0.25, 0.  , 0.  , 0.  , 0.  ])"
            ]
          },
          "metadata": {},
          "execution_count": 9
        }
      ]
    },
    {
      "cell_type": "code",
      "source": [
        "compute_invariant_distributions_pi(W)"
      ],
      "metadata": {
        "id": "cdtuLvlcTsNx",
        "outputId": "45160ddb-3f71-48ca-fae4-3de4b281f2c5",
        "colab": {
          "base_uri": "https://localhost:8080/"
        }
      },
      "execution_count": 14,
      "outputs": [
        {
          "output_type": "stream",
          "name": "stdout",
          "text": [
            "⚠️ Note: This result is an approximation due to potential numerical errors ⚠️\n"
          ]
        },
        {
          "output_type": "execute_result",
          "data": {
            "text/plain": [
              "array([[ 0.   , -0.   ],\n",
              "       [-0.   , -0.   ],\n",
              "       [-0.   , -0.   ],\n",
              "       [ 0.214, -0.973],\n",
              "       [ 0.107, -0.487],\n",
              "       [ 0.107, -0.487],\n",
              "       [ 0.143,  0.737],\n",
              "       [ 0.143,  0.737],\n",
              "       [ 0.143,  0.737],\n",
              "       [ 0.143,  0.737]])"
            ]
          },
          "metadata": {},
          "execution_count": 14
        }
      ]
    },
    {
      "cell_type": "code",
      "source": [
        "G = nx.from_numpy_array(W, create_using=nx.DiGraph)\n",
        "nx.draw(G, with_labels=True)"
      ],
      "metadata": {
        "id": "e0IDPKhbP2OG",
        "outputId": "8e5583d5-c57c-47f3-acb5-0229de9b29b8",
        "colab": {
          "base_uri": "https://localhost:8080/",
          "height": 516
        }
      },
      "execution_count": 10,
      "outputs": [
        {
          "output_type": "display_data",
          "data": {
            "text/plain": [
              "<Figure size 640x480 with 1 Axes>"
            ],
            "image/png": "[encoded data removed]"
          },
          "metadata": {}
        }
      ]
    },
    {
      "cell_type": "code",
      "source": [
        "G.edges"
      ],
      "metadata": {
        "id": "SUMp0wZaQOUa",
        "outputId": "c524cd07-1e8c-4d8a-82ad-81914f8165b1",
        "colab": {
          "base_uri": "https://localhost:8080/"
        }
      },
      "execution_count": 11,
      "outputs": [
        {
          "output_type": "execute_result",
          "data": {
            "text/plain": [
              "OutEdgeView([(0, 1), (0, 2), (1, 2), (1, 3), (1, 4), (2, 0), (2, 6), (2, 9), (3, 4), (3, 5), (4, 3), (5, 3), (6, 8), (6, 9), (7, 6), (7, 9), (8, 6), (8, 7), (9, 7), (9, 8)])"
            ]
          },
          "metadata": {},
          "execution_count": 11
        }
      ]
    },
    {
      "cell_type": "code",
      "source": [
        "for i, j in G.edges:\n",
        "    print(i+1, \"->\", j+1)"
      ],
      "metadata": {
        "id": "SYaKtEAwSDIL",
        "outputId": "b67cd13e-a74c-4cc1-dae1-a6a49717142f",
        "colab": {
          "base_uri": "https://localhost:8080/"
        }
      },
      "execution_count": 12,
      "outputs": [
        {
          "output_type": "stream",
          "name": "stdout",
          "text": [
            "1 -> 2\n",
            "1 -> 3\n",
            "2 -> 3\n",
            "2 -> 4\n",
            "2 -> 5\n",
            "3 -> 1\n",
            "3 -> 7\n",
            "3 -> 10\n",
            "4 -> 5\n",
            "4 -> 6\n",
            "5 -> 4\n",
            "6 -> 4\n",
            "7 -> 9\n",
            "7 -> 10\n",
            "8 -> 7\n",
            "8 -> 10\n",
            "9 -> 7\n",
            "9 -> 8\n",
            "10 -> 8\n",
            "10 -> 9\n"
          ]
        }
      ]
    },
    {
      "cell_type": "code",
      "source": [],
      "metadata": {
        "id": "7vuucx1GSKPm"
      },
      "execution_count": 12,
      "outputs": []
    }
  ]
}