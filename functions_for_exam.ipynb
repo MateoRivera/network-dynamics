{
  "nbformat": 4,
  "nbformat_minor": 0,
  "metadata": {
    "colab": {
      "provenance": [],
      "include_colab_link": true
    },
    "kernelspec": {
      "name": "python3",
      "display_name": "Python 3"
    },
    "language_info": {
      "name": "python"
    }
  },
  "cells": [
    {
      "cell_type": "markdown",
      "metadata": {
        "id": "view-in-github",
        "colab_type": "text"
      },
      "source": [
        "<a href=\"https://colab.research.google.com/github/MateoRivera/network-dynamics/blob/main/functions_for_exam.ipynb\" target=\"_parent\"><img src=\"https://colab.research.google.com/assets/colab-badge.svg\" alt=\"Open In Colab\"/></a>"
      ]
    },
    {
      "cell_type": "code",
      "execution_count": 1,
      "metadata": {
        "id": "sNdx4MKWdokE"
      },
      "outputs": [],
      "source": [
        "# Handle matrices and vectors\n",
        "import numpy as np\n",
        "\n",
        "# Handle Graphs\n",
        "import networkx as nx\n",
        "\n",
        "# Plot\n",
        "import matplotlib.pyplot as plt\n",
        "import seaborn as sns\n",
        "sns.set()"
      ]
    },
    {
      "cell_type": "markdown",
      "source": [
        "## Algebraic graph theory"
      ],
      "metadata": {
        "id": "oVlFPKG0XhnM"
      }
    },
    {
      "cell_type": "code",
      "source": [
        "def compute_P(W):\n",
        "    # P = D^-1 @ W\n",
        "    D = np.diag(W.sum(axis=1))\n",
        "    return np.linalg.inv(D) @ W\n",
        "\n",
        "def compute_L(W):\n",
        "    # L = D - W\n",
        "    D = np.diag(W.sum(axis=1))\n",
        "    return D - W\n",
        "\n",
        "def compute_pi(W, target_eigenvalue = 1, use_transition_matrix=True, decimal_precision=3):\n",
        "    P = compute_P(W) if use_transition_matrix else W\n",
        "    values, vectors = np.linalg.eig(P.T)\n",
        "    target_eigenvalue = [i for i, eigenvalue in enumerate(values) if np.isclose(values[i], target_eigenvalue)]\n",
        "\n",
        "    pi = vectors[:, target_eigenvalue].real\n",
        "    for i in range(pi.shape[1]):\n",
        "        pi[:, i] *= np.linalg.norm(pi[:, i])\n",
        "        pi[:, i] /= np.sum(pi[:, i])\n",
        "\n",
        "    round_vectorized = np.vectorize(lambda x: round(x, decimal_precision))\n",
        "    pi = round_vectorized(pi)\n",
        "    print(\"⚠️ Note: This result is an approximation due to potential numerical errors ⚠️\")\n",
        "    return pi\n",
        "\n",
        "def compute_pi_bar(W, decimal_precision = 3):\n",
        "    return compute_pi(compute_L(W), target_eigenvalue=0, use_transition_matrix=False, decimal_precision=decimal_precision)"
      ],
      "metadata": {
        "id": "LQVd5ItlYNly"
      },
      "execution_count": 105,
      "outputs": []
    },
    {
      "cell_type": "markdown",
      "source": [
        "## Averaging models with stubborn nodes"
      ],
      "metadata": {
        "id": "pXUNYuKW_kdX"
      }
    },
    {
      "cell_type": "code",
      "source": [
        "s = [1, 6]\n",
        "r = filter(lambda x: x not in s, range(8))\n",
        "list(r)"
      ],
      "metadata": {
        "id": "VvyT16_jBANZ",
        "outputId": "26b7cadb-8133-4abb-8e77-fa60ee6aab08",
        "colab": {
          "base_uri": "https://localhost:8080/"
        }
      },
      "execution_count": 117,
      "outputs": [
        {
          "output_type": "execute_result",
          "data": {
            "text/plain": [
              "[0, 2, 3, 4, 5, 7]"
            ]
          },
          "metadata": {},
          "execution_count": 117
        }
      ]
    },
    {
      "cell_type": "code",
      "source": [
        "len(np.array(np.array([1,2])).shape)"
      ],
      "metadata": {
        "id": "LNYnQlwNDsEz",
        "outputId": "26f113a0-c1b1-4765-a4b7-338f87c437ec",
        "colab": {
          "base_uri": "https://localhost:8080/"
        }
      },
      "execution_count": 136,
      "outputs": [
        {
          "output_type": "execute_result",
          "data": {
            "text/plain": [
              "1"
            ]
          },
          "metadata": {},
          "execution_count": 136
        }
      ]
    },
    {
      "cell_type": "code",
      "source": [
        "def compute_equilibria_with_stubborn(W, stubborn_id, u):\n",
        "    u = np.array(u)\n",
        "    if len(u.shape) == 1: # Is not a column vector\n",
        "        u = u.reshape(-1,1)\n",
        "    P = compute_P(W)\n",
        "    regular_id = list(filter(lambda x: x not in stubborn_id, range(len(W))))\n",
        "    Q = P[np.ix_(regular_id, regular_id)]\n",
        "    E = P[np.ix_(regular_id, stubborn_id)]\n",
        "    I = np.eye(len(Q))\n",
        "\n",
        "    return np.linalg.inv((I-Q)) @ (E @ u)"
      ],
      "metadata": {
        "id": "VdQ0LFg4_yz6"
      },
      "execution_count": 137,
      "outputs": []
    },
    {
      "cell_type": "code",
      "source": [
        "W = np.array([\n",
        "    [0, 0, 1, 0, 0, 0, 0, 0, 0],\n",
        "    [1, 0, 0, 0, 0, 0, 0, 0, 0],\n",
        "    [0, 1, 0, 0, 0, 0, 0, 0, 0],\n",
        "    [0, 0, 1, 0, 0, 0, 0, 0, 0],\n",
        "    [0, 0, 1, 1, 0, 1, 1, 0, 0],\n",
        "    [0, 0, 0, 1, 1, 0, 1, 0, 0],\n",
        "    [0, 0, 0, 0, 0, 0, 0, 0, 1],\n",
        "    [0, 0, 0, 0, 0, 0, 1, 0, 1],\n",
        "    [0, 0, 0, 0, 0, 0, 0, 1, 0]\n",
        "])\n",
        "\n",
        "compute_pi(W)"
      ],
      "metadata": {
        "colab": {
          "base_uri": "https://localhost:8080/"
        },
        "id": "bhlkPFafZqJh",
        "outputId": "1f79bd24-9c27-4380-9650-c2570ef2f8a2"
      },
      "execution_count": 106,
      "outputs": [
        {
          "output_type": "stream",
          "name": "stdout",
          "text": [
            "⚠️ Note: This result is an approximation due to potential numerical errors ⚠️\n"
          ]
        },
        {
          "output_type": "execute_result",
          "data": {
            "text/plain": [
              "array([[ 0.333,  0.   ],\n",
              "       [ 0.333,  0.   ],\n",
              "       [ 0.333,  0.   ],\n",
              "       [-0.   ,  0.   ],\n",
              "       [-0.   , -0.   ],\n",
              "       [-0.   ,  0.   ],\n",
              "       [-0.   ,  0.2  ],\n",
              "       [-0.   ,  0.4  ],\n",
              "       [-0.   ,  0.4  ]])"
            ]
          },
          "metadata": {},
          "execution_count": 106
        }
      ]
    },
    {
      "cell_type": "code",
      "source": [
        "compute_pi_bar(W, 5)"
      ],
      "metadata": {
        "id": "yj_Nybfn-O7B",
        "outputId": "231bea99-9e68-44a1-de17-f7d174b198f9",
        "colab": {
          "base_uri": "https://localhost:8080/"
        }
      },
      "execution_count": 112,
      "outputs": [
        {
          "output_type": "stream",
          "name": "stdout",
          "text": [
            "⚠️ Note: This result is an approximation due to potential numerical errors ⚠️\n"
          ]
        },
        {
          "output_type": "execute_result",
          "data": {
            "text/plain": [
              "array([[ 0.33333,  0.01351],\n",
              "       [ 0.33333,  0.01351],\n",
              "       [ 0.33333,  0.01351],\n",
              "       [ 0.     , -0.     ],\n",
              "       [ 0.     ,  0.     ],\n",
              "       [ 0.     , -0.     ],\n",
              "       [ 0.     ,  0.23987],\n",
              "       [ 0.     ,  0.23987],\n",
              "       [ 0.     ,  0.47973]])"
            ]
          },
          "metadata": {},
          "execution_count": 112
        }
      ]
    },
    {
      "cell_type": "code",
      "source": [
        "compute_equilibria_with_stubborn(W, [0,8], np.array([[0], [1]]))"
      ],
      "metadata": {
        "id": "dvv8ROzQDDbx",
        "outputId": "4c663efe-8f07-4b2e-b36c-82a397abb12a",
        "colab": {
          "base_uri": "https://localhost:8080/"
        }
      },
      "execution_count": 138,
      "outputs": [
        {
          "output_type": "execute_result",
          "data": {
            "text/plain": [
              "array([[0.        ],\n",
              "       [0.        ],\n",
              "       [0.        ],\n",
              "       [0.36363636],\n",
              "       [0.45454545],\n",
              "       [1.        ],\n",
              "       [1.        ]])"
            ]
          },
          "metadata": {},
          "execution_count": 138
        }
      ]
    },
    {
      "cell_type": "code",
      "source": [
        "compute_equilibria_with_stubborn(W, [0,8], [0,1])"
      ],
      "metadata": {
        "id": "nCUCcqgWDRXB",
        "outputId": "ff0f977a-a29a-414e-fc92-5a7845b6240e",
        "colab": {
          "base_uri": "https://localhost:8080/"
        }
      },
      "execution_count": 139,
      "outputs": [
        {
          "output_type": "execute_result",
          "data": {
            "text/plain": [
              "array([[0.        ],\n",
              "       [0.        ],\n",
              "       [0.        ],\n",
              "       [0.36363636],\n",
              "       [0.45454545],\n",
              "       [1.        ],\n",
              "       [1.        ]])"
            ]
          },
          "metadata": {},
          "execution_count": 139
        }
      ]
    },
    {
      "cell_type": "code",
      "source": [
        "array([[0.        ],\n",
        "       [0.        ],\n",
        "       [0.        ],\n",
        "       [0.36363636],\n",
        "       [0.45454545],\n",
        "       [1.        ],\n",
        "       [1.        ]])"
      ],
      "metadata": {
        "id": "7o29DpDoDOKW"
      },
      "execution_count": null,
      "outputs": []
    },
    {
      "cell_type": "code",
      "source": [
        "L = np.array([\n",
        "    [1, -1, 0, 0, 0, 0, 0, 0, 0],\n",
        "    [0, 1, -1, 0, 0, 0, 0, 0, 0],\n",
        "    [-1, 0, 1, -1, -1, 0, 0, 0, 0],\n",
        "    [0, 0, 0, 1, -1, -1, 0, 0, 0],\n",
        "    [0, 0, 0, 0, 4, -1, 0, 0, 0],\n",
        "    [0, 0, 0, 0, -1, 3, 0, 0, 0],\n",
        "    [0, 0, 0, 0, -1, -1, 1, -1, 0],\n",
        "    [0, 0, 0, 0, 0, 0, 0, 2, -1],\n",
        "    [0, 0, 0, 0, 0, 0, -1, -1, 1]\n",
        "])"
      ],
      "metadata": {
        "id": "bPvbIn69eRdI"
      },
      "execution_count": null,
      "outputs": []
    },
    {
      "cell_type": "code",
      "source": [
        "R = np.linalg.eig(L)\n",
        "R"
      ],
      "metadata": {
        "colab": {
          "base_uri": "https://localhost:8080/"
        },
        "id": "9ZXUMm5He3Zh",
        "outputId": "6400d666-4314-48ad-e4cc-31fe4611bfef"
      },
      "execution_count": null,
      "outputs": [
        {
          "output_type": "execute_result",
          "data": {
            "text/plain": [
              "EigResult(eigenvalues=array([ 8.88365811e-17+0.j       ,  1.50000000e+00+0.8660254j,\n",
              "        1.50000000e+00-0.8660254j,  1.00000000e+00+0.j       ,\n",
              "        4.61803399e+00+0.j       , -1.19348975e-15+0.j       ,\n",
              "        1.99999999e+00+0.j       ,  2.00000001e+00+0.j       ,\n",
              "        2.38196601e+00+0.j       ]), eigenvectors=array([[ 5.77350269e-01+0.j , -2.88675135e-01-0.5j, -2.88675135e-01+0.5j,\n",
              "        -7.07106781e-01+0.j , -1.52640134e-02+0.j , -2.29797071e-02+0.j ,\n",
              "        -4.02190379e-16+0.j ,  4.04625701e-16+0.j , -2.66125765e-02+0.j ],\n",
              "       [ 5.77350269e-01+0.j , -2.88675135e-01+0.5j, -2.88675135e-01-0.5j,\n",
              "        -6.13217009e-16+0.j ,  5.52257192e-02+0.j , -2.29797071e-02+0.j ,\n",
              "         4.10650549e-16+0.j , -4.12706946e-16+0.j ,  3.67776762e-02+0.j ],\n",
              "       [ 5.77350269e-01+0.j ,  5.77350269e-01+0.j ,  5.77350269e-01-0.j ,\n",
              "        -1.28208716e-16+0.j , -1.99808529e-01+0.j , -2.29797071e-02+0.j ,\n",
              "        -4.05820295e-16+0.j ,  4.08137703e-16+0.j , -5.08254985e-02+0.j ],\n",
              "       [ 0.00000000e+00+0.j ,  0.00000000e+00+0.j ,  0.00000000e+00-0.j ,\n",
              "         7.07106781e-01+0.j , -8.71301012e-02+0.j ,  2.02770124e-16+0.j ,\n",
              "         1.09474445e-15+0.j , -1.09374954e-15+0.j ,  2.05135167e-01+0.j ],\n",
              "       [ 0.00000000e+00+0.j ,  0.00000000e+00+0.j ,  0.00000000e+00-0.j ,\n",
              "         0.00000000e+00+0.j ,  8.25308164e-01+0.j , -2.87690945e-16+0.j ,\n",
              "        -2.97936777e-16+0.j ,  2.87476643e-16+0.j , -1.08283479e-01+0.j ],\n",
              "       [ 0.00000000e+00+0.j ,  0.00000000e+00+0.j ,  0.00000000e+00-0.j ,\n",
              "         0.00000000e+00+0.j , -5.10068497e-01+0.j ,  2.39164761e-16+0.j ,\n",
              "        -8.27987089e-16+0.j ,  8.31286498e-16+0.j , -1.75206350e-01+0.j ],\n",
              "       [ 0.00000000e+00+0.j ,  0.00000000e+00+0.j ,  0.00000000e+00-0.j ,\n",
              "         0.00000000e+00+0.j , -8.43773907e-02+0.j , -4.07924789e-01+0.j ,\n",
              "         7.07106786e-01+0.j , -7.07106776e-01+0.j , -3.85140826e-01+0.j ],\n",
              "       [ 0.00000000e+00+0.j ,  0.00000000e+00+0.j ,  0.00000000e+00-0.j ,\n",
              "         0.00000000e+00+0.j , -9.95939999e-03+0.j , -4.07924789e-01+0.j ,\n",
              "        -7.07106776e-01+0.j ,  7.07106786e-01+0.j ,  8.15741359e-01+0.j ],\n",
              "       [ 0.00000000e+00+0.j ,  0.00000000e+00+0.j ,  0.00000000e+00-0.j ,\n",
              "         0.00000000e+00+0.j ,  2.60740477e-02+0.j , -8.15849577e-01+0.j ,\n",
              "        -1.01967192e-08+0.j , -1.01967181e-08+0.j , -3.11585473e-01+0.j ]]))"
            ]
          },
          "metadata": {},
          "execution_count": 6
        }
      ]
    },
    {
      "cell_type": "code",
      "source": [
        "np.linalg.norm(R.eigenvectors[:, 5])"
      ],
      "metadata": {
        "colab": {
          "base_uri": "https://localhost:8080/"
        },
        "id": "gUWDyRH3fABo",
        "outputId": "a94899bc-a13e-4879-a955-259b070b034a"
      },
      "execution_count": null,
      "outputs": [
        {
          "output_type": "execute_result",
          "data": {
            "text/plain": [
              "0.9999999999999999"
            ]
          },
          "metadata": {},
          "execution_count": 19
        }
      ]
    },
    {
      "cell_type": "code",
      "source": [
        "L.dot([1/3, 1/3, 1/3, 0,0,0,0,0,0])"
      ],
      "metadata": {
        "colab": {
          "base_uri": "https://localhost:8080/"
        },
        "id": "25FlXIpVfjQP",
        "outputId": "d373b03e-a7c6-4450-c42f-eafd74fcaf21"
      },
      "execution_count": null,
      "outputs": [
        {
          "output_type": "execute_result",
          "data": {
            "text/plain": [
              "array([0., 0., 0., 0., 0., 0., 0., 0., 0.])"
            ]
          },
          "metadata": {},
          "execution_count": 20
        }
      ]
    },
    {
      "cell_type": "code",
      "source": [
        "L = L.T"
      ],
      "metadata": {
        "id": "RJlJKjbCfxm2"
      },
      "execution_count": null,
      "outputs": []
    },
    {
      "cell_type": "code",
      "source": [
        "L"
      ],
      "metadata": {
        "colab": {
          "base_uri": "https://localhost:8080/"
        },
        "id": "QoR1zHTZoqhl",
        "outputId": "4fe848a9-7376-4de9-dcc2-2342cd7e387a"
      },
      "execution_count": null,
      "outputs": [
        {
          "output_type": "execute_result",
          "data": {
            "text/plain": [
              "array([[ 1,  0, -1,  0,  0,  0,  0,  0,  0],\n",
              "       [-1,  1,  0,  0,  0,  0,  0,  0,  0],\n",
              "       [ 0, -1,  1,  0,  0,  0,  0,  0,  0],\n",
              "       [ 0,  0, -1,  1,  0,  0,  0,  0,  0],\n",
              "       [ 0,  0, -1, -1,  4, -1, -1,  0,  0],\n",
              "       [ 0,  0,  0, -1, -1,  3, -1,  0,  0],\n",
              "       [ 0,  0,  0,  0,  0,  0,  1,  0, -1],\n",
              "       [ 0,  0,  0,  0,  0,  0, -1,  2, -1],\n",
              "       [ 0,  0,  0,  0,  0,  0,  0, -1,  1]])"
            ]
          },
          "metadata": {},
          "execution_count": 23
        }
      ]
    },
    {
      "cell_type": "code",
      "source": [
        "W = np.array([\n",
        "    [0, 0, 1, 0, 0, 0, 0, 0, 0],\n",
        "    [1, 0, 0, 0, 0, 0, 0, 0, 0],\n",
        "    [0, 1, 0, 0, 0, 0, 0, 0, 0],\n",
        "    [0, 0, 1, 0, 0, 0, 0, 0, 0],\n",
        "    [0, 0, 1, 1, 0, 1, 1, 0, 0],\n",
        "    [0, 0, 0, 1, 1, 0, 1, 0, 0],\n",
        "    [0, 0, 0, 0, 0, 0, 0, 0, 1],\n",
        "    [0, 0, 0, 0, 0, 0, 1, 0, 1],\n",
        "    [0, 0, 0, 0, 0, 0, 0, 1, 0]\n",
        "])\n",
        "\n",
        "D = np.array([\n",
        "    [1, 0, 0, 0, 0, 0, 0, 0, 0],\n",
        "    [0, 1, 0, 0, 0, 0, 0, 0, 0],\n",
        "    [0, 0, 1, 0, 0, 0, 0, 0, 0],\n",
        "    [0, 0, 0, 1, 0, 0, 0, 0, 0],\n",
        "    [0, 0, 0, 0, 4, 0, 0, 0, 0],\n",
        "    [0, 0, 0, 0, 0, 3, 0, 0, 0],\n",
        "    [0, 0, 0, 0, 0, 0, 1, 0, 0],\n",
        "    [0, 0, 0, 0, 0, 0, 0, 2, 0],\n",
        "    [0, 0, 0, 0, 0, 0, 0, 0, 1]\n",
        "])"
      ],
      "metadata": {
        "id": "p9c0Crybos89"
      },
      "execution_count": null,
      "outputs": []
    },
    {
      "cell_type": "code",
      "source": [
        "R = np.linalg.eig((np.linalg.inv(D).dot(W)).T)\n",
        "R.eigenvalues"
      ],
      "metadata": {
        "colab": {
          "base_uri": "https://localhost:8080/"
        },
        "id": "LqmNlPgMpX8Z",
        "outputId": "5108e89d-cefe-44a2-9f55-5e2c47bd3939"
      },
      "execution_count": null,
      "outputs": [
        {
          "output_type": "execute_result",
          "data": {
            "text/plain": [
              "array([-0.5       +0.8660254j, -0.5       -0.8660254j,\n",
              "        1.        +0.j       ,  0.        +0.j       ,\n",
              "        1.        +0.j       ,  0.28867513+0.j       ,\n",
              "       -0.5       +0.5j      , -0.5       -0.5j      ,\n",
              "       -0.28867513+0.j       ])"
            ]
          },
          "metadata": {},
          "execution_count": 41
        }
      ]
    },
    {
      "cell_type": "code",
      "source": [
        "R.eigenvectors[:, 2] * np.linalg.norm(R.eigenvectors[:, 2]) / np.sum(R.eigenvectors[:, 2] * np.linalg.norm(R.eigenvectors[:, 2]))"
      ],
      "metadata": {
        "colab": {
          "base_uri": "https://localhost:8080/"
        },
        "id": "e2KFfsr2p6ic",
        "outputId": "12dc47d0-135b-41a8-fd31-0c0878516368"
      },
      "execution_count": null,
      "outputs": [
        {
          "output_type": "execute_result",
          "data": {
            "text/plain": [
              "array([ 0.33333333-0.j,  0.33333333-0.j,  0.33333333-0.j, -0.        -0.j,\n",
              "       -0.        -0.j, -0.        -0.j, -0.        -0.j, -0.        -0.j,\n",
              "       -0.        -0.j])"
            ]
          },
          "metadata": {},
          "execution_count": 44
        }
      ]
    },
    {
      "cell_type": "code",
      "source": [
        "(R.eigenvectors[:, 4] * np.linalg.norm(R.eigenvectors[:, 4]) / np.sum(R.eigenvectors[:, 4] * np.linalg.norm(R.eigenvectors[:, 4]))).real"
      ],
      "metadata": {
        "colab": {
          "base_uri": "https://localhost:8080/"
        },
        "id": "wh7kuxW1qTon",
        "outputId": "750697cd-4c0c-4812-fbd6-a583830558ae"
      },
      "execution_count": null,
      "outputs": [
        {
          "output_type": "execute_result",
          "data": {
            "text/plain": [
              "array([ 8.20136516e-05,  8.20136516e-05,  8.20136516e-05,  1.42047221e-18,\n",
              "       -4.58924749e-18,  1.07287885e-16,  1.99950792e-01,  3.99901584e-01,\n",
              "        3.99901584e-01])"
            ]
          },
          "metadata": {},
          "execution_count": 59
        }
      ]
    },
    {
      "cell_type": "code",
      "source": [
        "R.eigenvectors[:, 4].real"
      ],
      "metadata": {
        "colab": {
          "base_uri": "https://localhost:8080/"
        },
        "id": "fUqOP-n6spcv",
        "outputId": "e79edb47-58c9-4a59-93ac-eb6f422f07f5"
      },
      "execution_count": null,
      "outputs": [
        {
          "output_type": "execute_result",
          "data": {
            "text/plain": [
              "array([ 1.36723055e-04,  1.36723055e-04,  1.36723055e-04,  2.36803625e-18,\n",
              "       -7.65062798e-18,  1.78857143e-16,  3.33333324e-01,  6.66666648e-01,\n",
              "        6.66666648e-01])"
            ]
          },
          "metadata": {},
          "execution_count": 58
        }
      ]
    },
    {
      "cell_type": "code",
      "source": [
        "P = np.linalg.inv(D) @ W\n",
        "P"
      ],
      "metadata": {
        "colab": {
          "base_uri": "https://localhost:8080/"
        },
        "id": "ddRnXMeTstIJ",
        "outputId": "e40937eb-03ae-422a-9f79-73bb9b859d1e"
      },
      "execution_count": null,
      "outputs": [
        {
          "output_type": "execute_result",
          "data": {
            "text/plain": [
              "array([[0.        , 0.        , 1.        , 0.        , 0.        ,\n",
              "        0.        , 0.        , 0.        , 0.        ],\n",
              "       [1.        , 0.        , 0.        , 0.        , 0.        ,\n",
              "        0.        , 0.        , 0.        , 0.        ],\n",
              "       [0.        , 1.        , 0.        , 0.        , 0.        ,\n",
              "        0.        , 0.        , 0.        , 0.        ],\n",
              "       [0.        , 0.        , 1.        , 0.        , 0.        ,\n",
              "        0.        , 0.        , 0.        , 0.        ],\n",
              "       [0.        , 0.        , 0.25      , 0.25      , 0.        ,\n",
              "        0.25      , 0.25      , 0.        , 0.        ],\n",
              "       [0.        , 0.        , 0.        , 0.33333333, 0.33333333,\n",
              "        0.        , 0.33333333, 0.        , 0.        ],\n",
              "       [0.        , 0.        , 0.        , 0.        , 0.        ,\n",
              "        0.        , 0.        , 0.        , 1.        ],\n",
              "       [0.        , 0.        , 0.        , 0.        , 0.        ,\n",
              "        0.        , 0.5       , 0.        , 0.5       ],\n",
              "       [0.        , 0.        , 0.        , 0.        , 0.        ,\n",
              "        0.        , 0.        , 1.        , 0.        ]])"
            ]
          },
          "metadata": {},
          "execution_count": 60
        }
      ]
    },
    {
      "cell_type": "code",
      "source": [
        "stubborn_id = [0, 8]\n",
        "regular_id = list(range(1, 8))\n",
        "print(stubborn_id, regular_id)\n",
        "Q = P[np.ix_(regular_id, regular_id)]\n",
        "E = P[np.ix_(regular_id, stubborn_id)]\n",
        "Q, E"
      ],
      "metadata": {
        "colab": {
          "base_uri": "https://localhost:8080/"
        },
        "id": "9pr-kKS_4JBq",
        "outputId": "68d68506-6eff-4902-8d30-0c165ec2aea1"
      },
      "execution_count": null,
      "outputs": [
        {
          "output_type": "stream",
          "name": "stdout",
          "text": [
            "[0, 8] [1, 2, 3, 4, 5, 6, 7]\n"
          ]
        },
        {
          "output_type": "execute_result",
          "data": {
            "text/plain": [
              "(array([[0.        , 0.        , 0.        , 0.        , 0.        ,\n",
              "         0.        , 0.        ],\n",
              "        [1.        , 0.        , 0.        , 0.        , 0.        ,\n",
              "         0.        , 0.        ],\n",
              "        [0.        , 1.        , 0.        , 0.        , 0.        ,\n",
              "         0.        , 0.        ],\n",
              "        [0.        , 0.25      , 0.25      , 0.        , 0.25      ,\n",
              "         0.25      , 0.        ],\n",
              "        [0.        , 0.        , 0.33333333, 0.33333333, 0.        ,\n",
              "         0.33333333, 0.        ],\n",
              "        [0.        , 0.        , 0.        , 0.        , 0.        ,\n",
              "         0.        , 0.        ],\n",
              "        [0.        , 0.        , 0.        , 0.        , 0.        ,\n",
              "         0.5       , 0.        ]]),\n",
              " array([[1. , 0. ],\n",
              "        [0. , 0. ],\n",
              "        [0. , 0. ],\n",
              "        [0. , 0. ],\n",
              "        [0. , 0. ],\n",
              "        [0. , 1. ],\n",
              "        [0. , 0.5]]))"
            ]
          },
          "metadata": {},
          "execution_count": 65
        }
      ]
    },
    {
      "cell_type": "code",
      "source": [
        "I = np.eye(len(Q))\n",
        "u = np.array([[0], [1]])"
      ],
      "metadata": {
        "id": "mZtvqbnu49md"
      },
      "execution_count": null,
      "outputs": []
    },
    {
      "cell_type": "code",
      "source": [
        "np.linalg.inv((I-Q)) @ (E @ u)"
      ],
      "metadata": {
        "colab": {
          "base_uri": "https://localhost:8080/"
        },
        "id": "9a8jXfHb6Qwl",
        "outputId": "24951aa6-c4a4-4261-e65b-28338195fc77"
      },
      "execution_count": null,
      "outputs": [
        {
          "output_type": "execute_result",
          "data": {
            "text/plain": [
              "array([[0.        ],\n",
              "       [0.        ],\n",
              "       [0.        ],\n",
              "       [0.36363636],\n",
              "       [0.45454545],\n",
              "       [1.        ],\n",
              "       [1.        ]])"
            ]
          },
          "metadata": {},
          "execution_count": 69
        }
      ]
    },
    {
      "cell_type": "code",
      "source": [],
      "metadata": {
        "id": "_aIBsVyU6lJC"
      },
      "execution_count": null,
      "outputs": []
    }
  ]
}