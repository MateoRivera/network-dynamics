{
  "nbformat": 4,
  "nbformat_minor": 0,
  "metadata": {
    "colab": {
      "provenance": [],
      "include_colab_link": true
    },
    "kernelspec": {
      "name": "python3",
      "display_name": "Python 3"
    },
    "language_info": {
      "name": "python"
    }
  },
  "cells": [
    {
      "cell_type": "markdown",
      "metadata": {
        "id": "view-in-github",
        "colab_type": "text"
      },
      "source": [
        "<a href=\"https://colab.research.google.com/github/MateoRivera/network-dynamics/blob/main/functions_for_exam.ipynb\" target=\"_parent\"><img src=\"https://colab.research.google.com/assets/colab-badge.svg\" alt=\"Open In Colab\"/></a>"
      ]
    },
    {
      "cell_type": "code",
      "execution_count": 1,
      "metadata": {
        "id": "sNdx4MKWdokE"
      },
      "outputs": [],
      "source": [
        "# Handle matrices and vectors\n",
        "import numpy as np\n",
        "\n",
        "# Handle Graphs\n",
        "import networkx as nx\n",
        "\n",
        "# Plot\n",
        "import matplotlib.pyplot as plt\n",
        "import seaborn as sns\n",
        "sns.set()"
      ]
    },
    {
      "cell_type": "markdown",
      "source": [
        "## Algebraic graph theory"
      ],
      "metadata": {
        "id": "oVlFPKG0XhnM"
      }
    },
    {
      "cell_type": "code",
      "source": [
        "def compute_P(W):\n",
        "    # P = D^-1 @ W\n",
        "    D = np.diag(W.sum(axis=1))\n",
        "    return np.linalg.inv(D) @ W\n",
        "\n",
        "def compute_L(W):\n",
        "    # L = D - W\n",
        "    D = np.diag(W.sum(axis=1))\n",
        "    return D - W\n",
        "\n",
        "def compute_pi(W, target_eigenvalue = 1, use_transition_matrix=True, decimal_precision=3):\n",
        "    P = compute_P(W) if use_transition_matrix else W\n",
        "    values, vectors = np.linalg.eig(P.T)\n",
        "    target_eigenvalue = [i for i, eigenvalue in enumerate(values) if np.isclose(values[i], target_eigenvalue)]\n",
        "\n",
        "    pi = vectors[:, target_eigenvalue].real\n",
        "    for i in range(pi.shape[1]):\n",
        "        pi[:, i] *= np.linalg.norm(pi[:, i])\n",
        "        pi[:, i] /= np.sum(pi[:, i])\n",
        "\n",
        "    round_vectorized = np.vectorize(lambda x: round(x, decimal_precision))\n",
        "    pi = round_vectorized(pi)\n",
        "    print(\"⚠️ Note: This result is an approximation due to potential numerical errors ⚠️\")\n",
        "    return pi\n",
        "\n",
        "def compute_pi_bar(W, decimal_precision = 3):\n",
        "    return compute_pi(compute_L(W), target_eigenvalue=0, use_transition_matrix=False, decimal_precision=decimal_precision)"
      ],
      "metadata": {
        "id": "LQVd5ItlYNly"
      },
      "execution_count": 105,
      "outputs": []
    },
    {
      "cell_type": "markdown",
      "source": [
        "## Averaging models with stubborn nodes"
      ],
      "metadata": {
        "id": "pXUNYuKW_kdX"
      }
    },
    {
      "cell_type": "code",
      "source": [
        "def compute_equilibria_with_stubborn(W, stubborn_id, u):\n",
        "    u = np.array(u)\n",
        "    if len(u.shape) == 1: # Is not a column vector\n",
        "        u = u.reshape(-1,1)\n",
        "    P = compute_P(W)\n",
        "    regular_id = list(filter(lambda x: x not in stubborn_id, range(len(W))))\n",
        "    Q = P[np.ix_(regular_id, regular_id)]\n",
        "    E = P[np.ix_(regular_id, stubborn_id)]\n",
        "    I = np.eye(len(Q))\n",
        "\n",
        "    return np.linalg.inv((I-Q)) @ (E @ u)"
      ],
      "metadata": {
        "id": "VdQ0LFg4_yz6"
      },
      "execution_count": 137,
      "outputs": []
    },
    {
      "cell_type": "markdown",
      "source": [
        "## Examples of use"
      ],
      "metadata": {
        "id": "yxZFpNj_GnOM"
      }
    },
    {
      "cell_type": "code",
      "source": [
        "W = np.array([\n",
        "    [0, 0, 1, 0, 0, 0, 0, 0, 0],\n",
        "    [1, 0, 0, 0, 0, 0, 0, 0, 0],\n",
        "    [0, 1, 0, 0, 0, 0, 0, 0, 0],\n",
        "    [0, 0, 1, 0, 0, 0, 0, 0, 0],\n",
        "    [0, 0, 1, 1, 0, 1, 1, 0, 0],\n",
        "    [0, 0, 0, 1, 1, 0, 1, 0, 0],\n",
        "    [0, 0, 0, 0, 0, 0, 0, 0, 1],\n",
        "    [0, 0, 0, 0, 0, 0, 1, 0, 1],\n",
        "    [0, 0, 0, 0, 0, 0, 0, 1, 0]\n",
        "])\n",
        "\n",
        "compute_pi(W)"
      ],
      "metadata": {
        "colab": {
          "base_uri": "https://localhost:8080/"
        },
        "id": "bhlkPFafZqJh",
        "outputId": "1f79bd24-9c27-4380-9650-c2570ef2f8a2"
      },
      "execution_count": 106,
      "outputs": [
        {
          "output_type": "stream",
          "name": "stdout",
          "text": [
            "⚠️ Note: This result is an approximation due to potential numerical errors ⚠️\n"
          ]
        },
        {
          "output_type": "execute_result",
          "data": {
            "text/plain": [
              "array([[ 0.333,  0.   ],\n",
              "       [ 0.333,  0.   ],\n",
              "       [ 0.333,  0.   ],\n",
              "       [-0.   ,  0.   ],\n",
              "       [-0.   , -0.   ],\n",
              "       [-0.   ,  0.   ],\n",
              "       [-0.   ,  0.2  ],\n",
              "       [-0.   ,  0.4  ],\n",
              "       [-0.   ,  0.4  ]])"
            ]
          },
          "metadata": {},
          "execution_count": 106
        }
      ]
    },
    {
      "cell_type": "code",
      "source": [
        "compute_pi_bar(W, 5)"
      ],
      "metadata": {
        "colab": {
          "base_uri": "https://localhost:8080/"
        },
        "id": "yj_Nybfn-O7B",
        "outputId": "231bea99-9e68-44a1-de17-f7d174b198f9"
      },
      "execution_count": 112,
      "outputs": [
        {
          "output_type": "stream",
          "name": "stdout",
          "text": [
            "⚠️ Note: This result is an approximation due to potential numerical errors ⚠️\n"
          ]
        },
        {
          "output_type": "execute_result",
          "data": {
            "text/plain": [
              "array([[ 0.33333,  0.01351],\n",
              "       [ 0.33333,  0.01351],\n",
              "       [ 0.33333,  0.01351],\n",
              "       [ 0.     , -0.     ],\n",
              "       [ 0.     ,  0.     ],\n",
              "       [ 0.     , -0.     ],\n",
              "       [ 0.     ,  0.23987],\n",
              "       [ 0.     ,  0.23987],\n",
              "       [ 0.     ,  0.47973]])"
            ]
          },
          "metadata": {},
          "execution_count": 112
        }
      ]
    },
    {
      "cell_type": "code",
      "source": [
        "compute_equilibria_with_stubborn(W, [0,8], np.array([[0], [1]]))"
      ],
      "metadata": {
        "colab": {
          "base_uri": "https://localhost:8080/"
        },
        "id": "dvv8ROzQDDbx",
        "outputId": "4c663efe-8f07-4b2e-b36c-82a397abb12a"
      },
      "execution_count": 138,
      "outputs": [
        {
          "output_type": "execute_result",
          "data": {
            "text/plain": [
              "array([[0.        ],\n",
              "       [0.        ],\n",
              "       [0.        ],\n",
              "       [0.36363636],\n",
              "       [0.45454545],\n",
              "       [1.        ],\n",
              "       [1.        ]])"
            ]
          },
          "metadata": {},
          "execution_count": 138
        }
      ]
    },
    {
      "cell_type": "code",
      "source": [
        "compute_equilibria_with_stubborn(W, [0,8], [0,1])"
      ],
      "metadata": {
        "colab": {
          "base_uri": "https://localhost:8080/"
        },
        "id": "nCUCcqgWDRXB",
        "outputId": "ff0f977a-a29a-414e-fc92-5a7845b6240e"
      },
      "execution_count": 139,
      "outputs": [
        {
          "output_type": "execute_result",
          "data": {
            "text/plain": [
              "array([[0.        ],\n",
              "       [0.        ],\n",
              "       [0.        ],\n",
              "       [0.36363636],\n",
              "       [0.45454545],\n",
              "       [1.        ],\n",
              "       [1.        ]])"
            ]
          },
          "metadata": {},
          "execution_count": 139
        }
      ]
    },
    {
      "cell_type": "code",
      "source": [],
      "metadata": {
        "id": "_aIBsVyU6lJC"
      },
      "execution_count": null,
      "outputs": []
    }
  ]
}