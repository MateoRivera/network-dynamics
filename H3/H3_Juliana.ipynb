{
  "nbformat": 4,
  "nbformat_minor": 0,
  "metadata": {
    "colab": {
      "provenance": [],
      "authorship_tag": "ABX9TyPpJ9i+TPorx9TS3Yvyeip/",
      "include_colab_link": true
    },
    "kernelspec": {
      "name": "python3",
      "display_name": "Python 3"
    },
    "language_info": {
      "name": "python"
    }
  },
  "cells": [
    {
      "cell_type": "markdown",
      "metadata": {
        "id": "view-in-github",
        "colab_type": "text"
      },
      "source": [
        "<a href=\"https://colab.research.google.com/github/MateoRivera/network-dynamics/blob/main/H3/H3_Juliana.ipynb\" target=\"_parent\"><img src=\"https://colab.research.google.com/assets/colab-badge.svg\" alt=\"Open In Colab\"/></a>"
      ]
    },
    {
      "cell_type": "markdown",
      "source": [
        "### 1.1.2  Generate a random graph"
      ],
      "metadata": {
        "id": "GCBVCVMtWqMV"
      }
    },
    {
      "cell_type": "code",
      "execution_count": null,
      "metadata": {
        "id": "dzPZD5yxWebT"
      },
      "outputs": [],
      "source": [
        "import networkx as nx\n",
        "import random\n",
        "\n",
        "def preferential_attachment_graph(n, k):\n",
        "    assert n > k + 1, \"Number of nodes (n) must be greater than k + 1.\"\n",
        "\n",
        "    # Initial complete graph with k + 1 nodes\n",
        "    G = nx.complete_graph(k + 1)\n",
        "\n",
        "    # Alternating strategy for odd k\n",
        "    c_low = k // 2\n",
        "    c_high = c_low + 1\n",
        "\n",
        "    # At every time t>=2 create a new graph by adding a new node\n",
        "    for t in range(k + 2, n + 1):\n",
        "        G.add_node(t)\n",
        "\n",
        "        # Calculate the degree of each existing node, serve as wi(t-1)\n",
        "        degrees = dict(G.degree())\n",
        "        total_degree = sum(degrees.values())\n",
        "\n",
        "        # Calculate current average degree\n",
        "        current_avg_degree = total_degree / G.number_of_nodes()\n",
        "\n",
        "        # Decide the number of edges to add dynamically\n",
        "        if current_avg_degree < k:\n",
        "            c = c_high\n",
        "        else:\n",
        "            c = c_low\n",
        "\n",
        "        # Select nodes to connect based on preferential attachment\n",
        "        targets = set()\n",
        "\n",
        "        # Loop helps to avoiding redundant edges to the same target\n",
        "        while len(targets) < c:\n",
        "\n",
        "            # Probability of connecting to an existing node is proportional to\n",
        "            # its current degree wi(t-1)\n",
        "            chosen = random.choices(\n",
        "                population=list(degrees.keys()),\n",
        "                weights=list(degrees.values()),\n",
        "                k=1\n",
        "            )[0]\n",
        "            # Ensure no multiple links to the same node\n",
        "            if chosen not in targets:\n",
        "                targets.add(chosen)\n",
        "\n",
        "        # Add edges between the new node and selected targets\n",
        "        for target in targets:\n",
        "            G.add_edge(t, target)\n",
        "\n",
        "\n",
        "    # Post-generation adjustment to match desired average degree\n",
        "    \"\"\"These adjustments are random and might slightly alter the preferential\n",
        "    attachment structure of the graph, but for large n, their effect is minimal\n",
        "    because the overall degree distribution and structure remain close to what\n",
        "    is expected from the preferential attachment model.\"\"\"\n",
        "\n",
        "    target_edges = n * k // 2 # Target total number of edges in the graph\n",
        "    current_edges = G.number_of_edges()\n",
        "\n",
        "    if current_edges < target_edges:\n",
        "        while G.number_of_edges() < target_edges:\n",
        "            u, v = random.sample(G.nodes(), 2)  # Randomly pick two distinct nodes\n",
        "            if not G.has_edge(u, v): # Ensure there's no edge between them\n",
        "                G.add_edge(u, v) # Add an edge between them\n",
        "    elif current_edges > target_edges:\n",
        "        while G.number_of_edges() > target_edges:\n",
        "            edge = random.choice(list(G.edges()))  # Randomly pick an existing edge\n",
        "            G.remove_edge(*edge) # Remove the chosen edge\n",
        "\n",
        "    return G\n",
        "\n",
        "# Example usage\n",
        "n = 500  # Total number of nodes in the graph.\n",
        "k = 7    # Desired average degree of the graph.\n",
        "G = preferential_attachment_graph(n, k)\n",
        "\n",
        "# Check average degree\n",
        "average_degree = sum(dict(G.degree()).values()) / G.number_of_nodes()\n",
        "print(f\"Generated graph with average degree: {average_degree}\")\n",
        "\n",
        "# Visualize the graph (optional)\n",
        "import matplotlib.pyplot as plt\n",
        "plt.figure(figsize=(8, 8))\n",
        "nx.draw_spring(G, node_size=30, edge_color='gray', alpha=0.7)\n",
        "plt.show()"
      ]
    }
  ]
}