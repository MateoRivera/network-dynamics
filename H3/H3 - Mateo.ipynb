{
  "nbformat": 4,
  "nbformat_minor": 0,
  "metadata": {
    "colab": {
      "provenance": [],
      "include_colab_link": true
    },
    "kernelspec": {
      "name": "python3",
      "display_name": "Python 3"
    },
    "language_info": {
      "name": "python"
    }
  },
  "cells": [
    {
      "cell_type": "markdown",
      "metadata": {
        "id": "view-in-github",
        "colab_type": "text"
      },
      "source": [
        "<a href=\"https://colab.research.google.com/github/MateoRivera/network-dynamics/blob/main/H3/H3%20-%20Mateo.ipynb\" target=\"_parent\"><img src=\"https://colab.research.google.com/assets/colab-badge.svg\" alt=\"Open In Colab\"/></a>"
      ]
    },
    {
      "cell_type": "markdown",
      "source": [
        "# 1. Influenza H1N1 2009 Pandemic in Sweden\n",
        "During the fall of 2009 there was a large pandemic of the H1N1-virus, commonly known as the swine-flu. During this pandemic it is estimated that about 1.5 million people in Sweden were infected. As an attempt to stop the pandemic and reduce excess mortality the government issued a vaccination program beginning in week 40 of 2009. During the weeks that followed they vaccinated more than 60% of the Swedish population.\n",
        "\n",
        "In this homework, you will simulate the pandemic with the goal of learning the network-structure characteristics and disease-dynamics parameters of the pandemic in Sweden 2009. This task will be divided into 4 parts where the focus of each part is to:\n",
        "1. Get started and learn how to:\n",
        "\n",
        "    a. Simulate a pandemic on a known graph\n",
        "\n",
        "    b. Generate a random graph\n",
        "2. Simulate the disease propagation on a random graph without vaccination\n",
        "3. Simulate disease propagation on a random graph with vaccination\n",
        "4. Estimate the network-structure characteristics and disease-dynamics parameters for the pandemic in Sweden during the fall of 2009\n",
        "\n",
        "All numbers regarding the H1N1 pandemic in Sweden during the fall of 2009 have been taken from the a report by the Swedish Civil Contingencies Agency (Myndigheten for samhallsskydd och beredskap, MSB) and the Swedish Institute for Communicable Disease Control (Smittskyddsinstitutet, SMI).\n",
        "\n",
        "## 1.1 Preliminary parts\n",
        "As a warm-up exercise we will start off by doing two preliminary parts. The first one will involve simulating an epidemic on a given graph, while the second part will be to generate a random graph with preferential attachment.\n",
        "\n",
        "### 1.1.1 Epidemic on a known graph\n",
        "In this part you will simulate an epidemic on a symmetric k-regular undirected graph with node set $V=\\left\\{1,2,...,n\\right\\}$ where every node is directly connected to the $k=6$ nodes whose index is closest to their own modulo $n$. See Figure 1 for an example with 8 nodes. The graph that you will simulate the epidemic on will however contain $n=500$ nodes.\n",
        "<figure>\n",
        "    <img width=\"256\" src=\"https://raw.githubusercontent.com/MateoRivera/network-dynamics/main/H3/sources/F1.png\"/>\n",
        "    <figcaption>Figure 1: Symmetric $k$-regular graph.</figcaption>\n",
        "</figure>\n",
        "The disease propagation model that you will use to simulate the epidemic is a discrete-time simplified version of the SIR epidemic model. At any time $t=0,1,...$ nodes are in state $X_{i}\\left(t\\right) \\in\\left\\{S,I,R \\right\\}$, where $S$ is susceptible, $I$ is infected and $R$ is recovered. Let $\\beta \\in \\left[0,1\\right]$ be the probability that the infection is spread from an infected individual to a susceptible one (given that they are connected by a link) during one time step. Assuming that a susceptible node $i$ has $m$ infected neighbors, this means that the probability that individual $i$ does not get infected by any of the neighbors during one time step is $\\left(1-\\beta \\right)^{m}$. Thus, the probability that individual $i$ becomes infected by any of its neighbors is $1-\\left(1-\\beta \\right)^{m}$. Furthermore, let $\\rho \\in \\left[0,1\\right]$ be the probability that an infected individual will recover during one time step. The epidemic is driven by the following transition probabilities\n",
        "$$ \\mathbb{P}\\left(X_{i}\\left(t+1 \\right) =I \\mid X_{i} \\left( t\\right) = S, \\sum_{j\\in V}W_{ij}\\delta_{X_{j}\\left(t\\right)}^{I}=m \\right) = 1-\\left(1-\\beta \\right)^{m}$$\n",
        "$$\\mathbb{P}\\left(X_{i}\\left(t+1 \\right) =R \\mid X_{i} \\left( t\\right) = I \\right)=\\rho$$\n",
        "where $\\sum_{j\\in V}W_{ij}\\delta_{X_{j}\\left(t\\right)}^{I}$ is the number of infected neighbors for node $i$.\n",
        "\n",
        "**Problem 1.1:** You should simulate an epidemic on a symmetric $k-$regular graph $G=\\left(V, E\\right)$ with $\\left|V\\right|=500$ nodes and $k=6$. See Figure 1 for an example with $n=8$ nodes and $k=6$. Let $\\beta=0.25$ and $\\rho=0.6$. With one week being one unit of time, simulate the epidemic for 15 weeks. You can choose an initial configuration with 10 infected nodes selected at a random from the node set $V$, or make a different choice of initial configuration (In the latter case, please briefly discuss your motivation).\n",
        "\n",
        "Do this $N=100$ times and plot the following:\n",
        "* The average number of newly infected individuals each week. In other words, you should plot how many people *become* infected each week (On the average).\n",
        "* The average total number of susceptible, infected, and recovered individuals at each week. In other words, you should plot how many individuals *in total are* susceptible/infected/recovered at each week (On the average).\n",
        "\n",
        "**Hint:** Since we use a fairly large amount of nodes for this simulation it is good idea to use *sparse matrices* for this and the following problems."
      ],
      "metadata": {
        "id": "14dKX8nzwOum"
      }
    },
    {
      "cell_type": "code",
      "execution_count": 1,
      "metadata": {
        "id": "de48Sakqi8j3"
      },
      "outputs": [],
      "source": [
        "import networkx as nx\n",
        "import matplotlib.pyplot as plt\n",
        "import seaborn as sns\n",
        "sns.set()\n",
        "import numpy as np\n",
        "%matplotlib inline\n",
        "options = {\n",
        "    'node_size': 500,\n",
        "    'width': 1, # width of the edges,\n",
        "    'node_color': '#ffffff',\n",
        "    'node_shape': 'o',\n",
        "    'edge_color': 'black',\n",
        "    'font_weight':'normal'\n",
        "}\n",
        "import progressbar\n",
        "import time"
      ]
    },
    {
      "cell_type": "code",
      "source": [
        "def custom_circulant_graph(n, k):\n",
        "    #if condition returns False, AssertionError is raised:\n",
        "    assert k % 2 == 0, \"k must be even, i.e. k ∈ {2i | i ∈ N}\"\n",
        "\n",
        "    # Generate the circulant graph\n",
        "    distances = [i for i in range(1, k // 2 + 1)]  # Set of distances (1, 2, ..., k/2)\n",
        "    return nx.circulant_graph(n, distances)"
      ],
      "metadata": {
        "id": "TWgFVN2InR1D"
      },
      "execution_count": 2,
      "outputs": []
    },
    {
      "cell_type": "code",
      "source": [
        "# Set parameters\n",
        "n = 500\n",
        "k = 6\n",
        "beta = .25\n",
        "rho = .6\n",
        "week_to_simulate = 15\n",
        "initial_infected_nodes = np.random.choice(range(n), 10)\n",
        "\n",
        "# Create the graph\n",
        "G = custom_circulant_graph(n, k)\n",
        "\n",
        "# Set initial configuration of the node state\n",
        "color_map = []\n",
        "for i in range(n):\n",
        "    if i in initial_infected_nodes:\n",
        "        G.nodes[i]['state'] = 'I'\n",
        "        color_map.append('red')\n",
        "    else:\n",
        "        G.nodes[i]['state'] = 'S'\n",
        "        color_map.append('lightblue')\n",
        "\n",
        "#nx.draw_circular(G, with_labels=True, font_weight='bold', node_color=color_map)"
      ],
      "metadata": {
        "id": "5Td9BWjGj3WW"
      },
      "execution_count": 3,
      "outputs": []
    },
    {
      "cell_type": "code",
      "source": [
        "# From G, get the infected neighbors of the node i\n",
        "def get_infected_neighbors(G, i):\n",
        "    infected_neighbors = [neighbor for neighbor in G.neighbors(i) if G.nodes[neighbor]['state'] == 'I']\n",
        "    return infected_neighbors"
      ],
      "metadata": {
        "id": "AK8nxHAxQuGR"
      },
      "execution_count": 4,
      "outputs": []
    },
    {
      "cell_type": "code",
      "source": [
        "# Computes the probability that individual i becomes infected by any of its neighbors or\n",
        "# the probability that an infected individual will recover during one time step.\n",
        "def P(G, i, beta = None, rho = None):\n",
        "        return 1- (1 - beta) ** len(get_infected_neighbors(G, i)) if beta is not None else rho"
      ],
      "metadata": {
        "id": "oYMfK3UjcS17"
      },
      "execution_count": 5,
      "outputs": []
    },
    {
      "cell_type": "code",
      "source": [
        "def EpidemicSimulation(G, beta, rho, time_limit):\n",
        "    states = ['S', 'I', 'R']\n",
        "    # We do not want to modify the original graph\n",
        "    G = G.copy()\n",
        "\n",
        "    # nodes_infected saves is a matrix of G.number_of_nodes() X time_limit\n",
        "    # each row is associated to a node and each column to the state of the node\n",
        "    #nodes_infected = np.zeros((G.number_of_nodes(), 1))\n",
        "    nodes_infected = np.reshape([states.index(G.nodes[i]['state']) for i in G.nodes], (-1, 1))\n",
        "\n",
        "    # New infected\n",
        "    new_nodes_infected = [nodes_infected.sum()]\n",
        "\n",
        "    # Warning: G.nodes[i]['state'] saves the current state, not historical data\n",
        "    for t in range(1, time_limit + 1):\n",
        "        # We will be modifying the states of G, so we need a copy of the iteration t - 1\n",
        "        G_copy = G.copy()\n",
        "        current_nodes_infected = np.copy(nodes_infected[:, -1])\n",
        "        new_nodes_infected.append(0)\n",
        "\n",
        "        # Let's make some transitions depending on the probabilities\n",
        "        for i in G_copy.nodes:\n",
        "            new_state = G_copy.nodes[i]['state']\n",
        "            if new_state == 'S':\n",
        "                # 1 if i get infected, 0 otherwise\n",
        "                i_is_infected = np.random.binomial(1, P(G_copy, i, beta = beta))\n",
        "\n",
        "                if i_is_infected:\n",
        "                    new_state = 'I'\n",
        "                    new_nodes_infected[-1] += 1\n",
        "\n",
        "            elif new_state == 'I':\n",
        "                # 1 if i get recovered, 0 otherwise\n",
        "                i_is_recovered = np.random.binomial(1, P(G_copy, i, rho = rho))\n",
        "\n",
        "                if i_is_recovered:\n",
        "                    new_state = 'R'\n",
        "\n",
        "            # Let's update the state of the node\n",
        "            G.nodes[i]['state'] = new_state\n",
        "            current_nodes_infected[i] = states.index(new_state)\n",
        "\n",
        "        nodes_infected = np.append(nodes_infected, current_nodes_infected.reshape(-1, 1), axis=1)\n",
        "\n",
        "    return nodes_infected, new_nodes_infected"
      ],
      "metadata": {
        "id": "6XlWOOZVnUWF"
      },
      "execution_count": 6,
      "outputs": []
    },
    {
      "cell_type": "code",
      "source": [
        "def Simulations(G, beta, rho, n_simulations = 100, use_progressbar = True):\n",
        "    simulations = []\n",
        "    # Create a progress bar\n",
        "    if use_progressbar:\n",
        "        bar = progressbar.ProgressBar(max_value=n_simulations)\n",
        "    for s in range(n_simulations):\n",
        "        simulations.append(EpidemicSimulation(G, beta, rho, week_to_simulate))\n",
        "        if use_progressbar:\n",
        "            bar.update(s+1)\n",
        "    if use_progressbar:\n",
        "        bar.finish()\n",
        "    return simulations"
      ],
      "metadata": {
        "id": "knaM-DZBOhYG"
      },
      "execution_count": 7,
      "outputs": []
    },
    {
      "cell_type": "code",
      "source": [
        "nodes_infected, new_nodes_infected = EpidemicSimulation(G, beta, rho, week_to_simulate)"
      ],
      "metadata": {
        "id": "BJ_PcWC-uH2G"
      },
      "execution_count": 11,
      "outputs": []
    },
    {
      "cell_type": "code",
      "source": [
        "S = Simulations(G, beta, rho)"
      ],
      "metadata": {
        "id": "WUrZHdElODG_",
        "outputId": "5366b1ee-4008-4615-d961-ba0fb950145c",
        "colab": {
          "base_uri": "https://localhost:8080/"
        }
      },
      "execution_count": 12,
      "outputs": [
        {
          "output_type": "stream",
          "name": "stderr",
          "text": [
            "\u001b[38;2;0;255;0m100%\u001b[39m \u001b[38;2;0;255;0m(100 of 100)\u001b[39m |######################| Elapsed Time: 0:00:16 Time:  0:00:16\n"
          ]
        }
      ]
    },
    {
      "cell_type": "code",
      "source": [
        "average_new_nodes_infected = np.mean([simulation[1] for simulation in S], axis=0)\n",
        "average_new_nodes_infected"
      ],
      "metadata": {
        "id": "1bB_F0z8QEFp",
        "outputId": "db3c4bb7-6ded-498e-ab7d-4ff39a12e218",
        "colab": {
          "base_uri": "https://localhost:8080/"
        }
      },
      "execution_count": 13,
      "outputs": [
        {
          "output_type": "execute_result",
          "data": {
            "text/plain": [
              "array([10.  , 15.39, 19.89, 18.22, 16.63, 14.2 , 11.39,  9.66,  7.9 ,\n",
              "        6.23,  4.86,  4.14,  3.46,  2.74,  2.33,  1.81])"
            ]
          },
          "metadata": {},
          "execution_count": 13
        }
      ]
    },
    {
      "cell_type": "code",
      "source": [
        "plt.plot(average_new_nodes_infected)"
      ],
      "metadata": {
        "id": "5sBNPiG9ONzV",
        "outputId": "bc65ab06-6ff7-4916-9c34-2999a3ac4aca",
        "colab": {
          "base_uri": "https://localhost:8080/",
          "height": 452
        }
      },
      "execution_count": 10,
      "outputs": [
        {
          "output_type": "execute_result",
          "data": {
            "text/plain": [
              "[<matplotlib.lines.Line2D at 0x7cc954414090>]"
            ]
          },
          "metadata": {},
          "execution_count": 10
        },
        {
          "output_type": "display_data",
          "data": {
            "text/plain": [
              "<Figure size 640x480 with 1 Axes>"
            ],
            "image/png": "[encoded data removed]"
          },
          "metadata": {}
        }
      ]
    },
    {
      "cell_type": "code",
      "source": [],
      "metadata": {
        "id": "67mHhMW_SNEZ"
      },
      "execution_count": null,
      "outputs": []
    }
  ]
}